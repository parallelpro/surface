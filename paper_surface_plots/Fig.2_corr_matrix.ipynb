{
 "cells": [
  {
   "cell_type": "code",
   "execution_count": 1,
   "id": "67aa97ad-8b1b-4e45-b693-8596ecd0b75e",
   "metadata": {},
   "outputs": [],
   "source": [
    "%run setup.py"
   ]
  },
  {
   "cell_type": "code",
   "execution_count": 2,
   "id": "5c970525-7982-4784-b2f2-93e53002e589",
   "metadata": {},
   "outputs": [],
   "source": [
    "# copied from src/3_fit_surface_params.ipynb\n",
    "corr = np.array([[ 1.        , -0.34591866, -0.42900035, -0.21273926,\n",
    "               0.9241423 , -0.2604225 , -0.45954454, -0.28338483],\n",
    "             [-0.3458591 ,  1.0000001 , -0.692837  , -0.44314474,\n",
    "              -0.34180248,  0.8650529 , -0.5254658 , -0.28083682],\n",
    "             [-0.42906293, -0.6927884 ,  1.0000001 ,  0.56699   ,\n",
    "              -0.37955612, -0.63358474,  0.8716615 ,  0.47360078],\n",
    "             [-0.21277882, -0.44312456,  0.56700087,  1.        ,\n",
    "              -0.21708858, -0.3642659 ,  0.47002703,  0.84788865],\n",
    "             [ 0.9241334 , -0.34185594, -0.3794946 , -0.21705072,\n",
    "               1.        , -0.3426243 , -0.44335365, -0.29162878],\n",
    "             [-0.2603325 ,  0.865015  , -0.63361853, -0.36427385,\n",
    "              -0.34254092,  0.9999999 , -0.68032914, -0.39284268],\n",
    "             [-0.45962855, -0.5253842 ,  0.8716462 ,  0.47000483,\n",
    "              -0.44343835, -0.68026066,  0.9999999 ,  0.5799363 ],\n",
    "             [-0.2834451 , -0.28078708,  0.47359845,  0.84787863,\n",
    "              -0.29168752, -0.3928034 ,  0.5799444 ,  0.99999994]])"
   ]
  },
  {
   "cell_type": "code",
   "execution_count": 9,
   "id": "2ea6f77c-f825-431e-bcac-b08691d8a448",
   "metadata": {},
   "outputs": [
    {
     "data": {
      "text/plain": [
       "0"
      ]
     },
     "execution_count": 9,
     "metadata": {},
     "output_type": "execute_result"
    },
    {
     "data": {
      "image/png": "[encoded data removed]",
      "text/plain": [
       "<Figure size 240x168 with 2 Axes>"
      ]
     },
     "metadata": {
      "needs_background": "light"
     },
     "output_type": "display_data"
    }
   ],
   "source": [
    "import matplotlib.colors\n",
    "norm = matplotlib.colors.Normalize(vmin=-0.5,vmax=0.5)\n",
    "\n",
    "\n",
    "fig, axes = plt.subplots(figsize=mnras_size(ratio=0.7,column='one'), nrows=1, ncols=1, \n",
    "                         squeeze=False, constrained_layout=True)\n",
    "axes = axes.reshape(-1)\n",
    "\n",
    "p = ['${}$'.format(s) for s in ['a', 'b', 'c', 'd', \"a'\", \"b'\", \"c'\", \"d'\"] ]\n",
    "\n",
    "norm=matplotlib.colors.Normalize(vmin=-1, vmax=1)\n",
    "\n",
    "c=axes[0].imshow(corr, cmap='seismic', norm=norm)\n",
    "axes[0].set_xticks(range(0,8), p)\n",
    "axes[0].set_yticks(range(0,8), p)\n",
    "for i in range(8):\n",
    "    for j in range(8):\n",
    "        axes[0].text(i, j, '{:.1f}'.format(corr[i,j]), ha='center', va='center', color='white')\n",
    "        \n",
    "fig.colorbar(c, ax=axes).set_label('Correlation coefficient')\n",
    "\n",
    "\n",
    "filename = 'Fig.2_corr_matrix.pdf'\n",
    "\n",
    "plt.savefig(filename)\n",
    "os.system(to_overleaf(filename, 'figures'))"
   ]
  },
  {
   "cell_type": "code",
   "execution_count": null,
   "id": "6694c17f-a539-47f9-9219-8b37a6ba26b1",
   "metadata": {},
   "outputs": [],
   "source": []
  }
 ],
 "metadata": {
  "kernelspec": {
   "display_name": "Python 3",
   "language": "python",
   "name": "python3"
  },
  "language_info": {
   "codemirror_mode": {
    "name": "ipython",
    "version": 3
   },
   "file_extension": ".py",
   "mimetype": "text/x-python",
   "name": "python",
   "nbconvert_exporter": "python",
   "pygments_lexer": "ipython3",
   "version": "3.7.9"
  }
 },
 "nbformat": 4,
 "nbformat_minor": 5
}
