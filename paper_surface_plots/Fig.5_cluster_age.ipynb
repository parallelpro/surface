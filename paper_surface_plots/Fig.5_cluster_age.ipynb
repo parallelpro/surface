{
 "cells": [
  {
   "cell_type": "code",
   "execution_count": 1,
   "id": "aa42c8b5-fb6b-479d-a2c8-c1a96fa3f435",
   "metadata": {},
   "outputs": [],
   "source": [
    "%run setup.py"
   ]
  },
  {
   "cell_type": "code",
   "execution_count": 2,
   "id": "3f4a000c-651f-4736-aaae-072bc0e45b3b",
   "metadata": {},
   "outputs": [],
   "source": [
    "stars = pd.read_excel(rootpath+'surface/sample/samples.xlsx')\n",
    "idx =  (stars['ifmodelling']==1) & np.isin(stars['names'], ['ngc6791', 'ngc6819']) #& (stars['ruwe']<1.2)\n",
    "\n",
    "stars = stars.loc[idx,:].reset_index(drop=True)\n",
    "       \n",
    "idx = ~np.isfinite(stars['Dnu'])\n",
    "stars.loc[idx, 'Dnu'] = stars.loc[idx, 'Dnu_guess']"
   ]
  },
  {
   "cell_type": "code",
   "execution_count": 3,
   "id": "d0c77520-b582-40ec-8b1a-7029d4c5589e",
   "metadata": {},
   "outputs": [
    {
     "data": {
      "application/vnd.jupyter.widget-view+json": {
       "model_id": "cb403cd82bad4f669f12ca50a9e2823e",
       "version_major": 2,
       "version_minor": 0
      },
      "text/plain": [
       "  0%|          | 0/20 [00:00<?, ?it/s]"
      ]
     },
     "metadata": {},
     "output_type": "display_data"
    },
    {
     "data": {
      "application/vnd.jupyter.widget-view+json": {
       "model_id": "2e2604bc7cd14ecc9d48bd6a35a0f8e5",
       "version_major": 2,
       "version_minor": 0
      },
      "text/plain": [
       "  0%|          | 0/18 [00:00<?, ?it/s]"
      ]
     },
     "metadata": {},
     "output_type": "display_data"
    }
   ],
   "source": [
    "idx1 = np.isin(stars['names'], ['ngc6791']) & (stars['ruwe']<1.2) & (stars['e_lum_J']/stars['lum_J'] < 0.25)#ngc6\n",
    "idx2 = np.isin(stars['names'], ['ngc6819']) & (stars['ruwe']<1.2) & (stars['e_lum_J']/stars['lum_J'] < 0.25)#ngc6\n",
    "\n",
    "\n",
    "def multi(inputs):\n",
    "    istar, star = inputs\n",
    "    cols = ['chi2', 'star_age']\n",
    "    \n",
    "    filepath1 = rootpath+'surface/results_spec_gaia_nu/{:0.0f}/data.h5'.format(star['KIC'])\n",
    "    filepath2 = rootpath+'surface/results_spec_gaia_nu_sc/{:0.0f}/data.h5'.format(star['KIC'])\n",
    "    if not (os.path.exists(filepath1) & os.path.exists(filepath2)): return [None, None]\n",
    "    data = h5py.File(filepath1, 'r')\n",
    "    chi2_b, age_b = [data[col][:] for col in cols]\n",
    "    prob_b = np.exp(-chi2_b/2.)\n",
    "    \n",
    "    data = h5py.File(filepath2, 'r')\n",
    "    chi2_a, age_a = [data[col][:] for col in cols]\n",
    "    prob_a = np.exp(-chi2_a/2.)\n",
    "    \n",
    "    return [[prob_b, prob_a], [age_b, age_a]]\n",
    "\n",
    "r = process_map(multi, stars.loc[idx1,:].iterrows(), total=np.sum(idx1), max_workers=12)\n",
    "probs1, ages1 = [i[0] for i in r if i is not None], [i[1] for i in r if i is not None]\n",
    "\n",
    "def multi(inputs):\n",
    "    istar, star = inputs\n",
    "    cols = ['chi2', 'star_age']\n",
    "    \n",
    "    filepath1 = rootpath+'surface/results_spec_gaia_nu/{:0.0f}/data.h5'.format(star['KIC'])\n",
    "    filepath2 = rootpath+'surface/results_spec_gaia_nu_sc/{:0.0f}/data.h5'.format(star['KIC'])\n",
    "    if not (os.path.exists(filepath1) & os.path.exists(filepath2)): return [None, None]\n",
    "    data = h5py.File(filepath1, 'r')\n",
    "    chi2_b, age_b = [data[col][:] for col in cols]\n",
    "    prob_b = np.exp(-chi2_b/2.)\n",
    "    \n",
    "    data = h5py.File(filepath2, 'r')\n",
    "    chi2_a, age_a = [data[col][:] for col in cols]\n",
    "    prob_a = np.exp(-chi2_a/2.)\n",
    "  \n",
    "    return [[prob_b, prob_a], [age_b, age_a]]\n",
    "r = process_map(multi, stars.loc[idx2,:].iterrows(), total=np.sum(idx2), max_workers=12)\n",
    "probs2, ages2 = [i[0] for i in r if i is not None], [i[1] for i in r if i is not None]\n"
   ]
  },
  {
   "cell_type": "code",
   "execution_count": null,
   "id": "70ef6f48-3877-4631-b945-fc01b8b51c94",
   "metadata": {},
   "outputs": [],
   "source": []
  },
  {
   "cell_type": "code",
   "execution_count": 4,
   "id": "7ca5b7ac-c35c-4b7d-9d23-5ea3c68c3ea8",
   "metadata": {},
   "outputs": [],
   "source": [
    "Nstar1, Nstar2 = len(probs1), len(probs2)\n",
    "t1 = np.linspace(0,20e9,100)\n",
    "t2 = np.linspace(0,5e9,100)\n",
    "prob_tb1 = [np.zeros(len(t1)) for i in range(Nstar1)]\n",
    "prob_ta1 = [np.zeros(len(t1)) for i in range(Nstar1)]\n",
    "prob_tb2 = [np.zeros(len(t2)) for i in range(Nstar2)]\n",
    "prob_ta2 = [np.zeros(len(t2)) for i in range(Nstar2)]"
   ]
  },
  {
   "cell_type": "code",
   "execution_count": 5,
   "id": "667fb757-c344-4e58-bfc3-cd75410cac6c",
   "metadata": {},
   "outputs": [
    {
     "name": "stderr",
     "output_type": "stream",
     "text": [
      "100%|██████████| 20/20 [00:12<00:00,  1.61it/s]\n"
     ]
    }
   ],
   "source": [
    "from sklearn.neighbors import KernelDensity\n",
    "\n",
    "for istar in tqdm(range(Nstar1)):\n",
    "    idx = (probs1[istar][0]>0)\n",
    "    kde = KernelDensity(kernel='gaussian', bandwidth=1.2e9).fit(ages1[istar][0][idx][:,None], None, probs1[istar][0][idx])\n",
    "    prob_tb1[istar] = np.exp(kde.score_samples(t1[:, None]))\n",
    "    \n",
    "    idx = (probs1[istar][1]>0)\n",
    "    kde = KernelDensity(kernel='gaussian', bandwidth=1.2e9).fit(ages1[istar][1][idx][:,None], None, probs1[istar][1][idx])\n",
    "    prob_ta1[istar] = np.exp(kde.score_samples(t1[:, None]))"
   ]
  },
  {
   "cell_type": "code",
   "execution_count": 6,
   "id": "5ea86ccf-7324-4378-b399-6f40101aceda",
   "metadata": {},
   "outputs": [
    {
     "name": "stderr",
     "output_type": "stream",
     "text": [
      "100%|██████████| 18/18 [00:06<00:00,  2.85it/s]\n"
     ]
    }
   ],
   "source": [
    "for istar in tqdm(range(Nstar2)):\n",
    "    idx = (probs2[istar][0]>0)\n",
    "    kde = KernelDensity(kernel='gaussian', bandwidth=0.2e9).fit(ages2[istar][0][idx][:,None], None, probs2[istar][0][idx])\n",
    "    prob_tb2[istar] = np.exp(kde.score_samples(t2[:, None]))\n",
    "    \n",
    "    idx = (probs2[istar][1]>0)\n",
    "    kde = KernelDensity(kernel='gaussian', bandwidth=0.2e9).fit(ages2[istar][1][idx][:,None], None, probs2[istar][1][idx])\n",
    "    prob_ta2[istar] = np.exp(kde.score_samples(t2[:, None]))"
   ]
  },
  {
   "cell_type": "code",
   "execution_count": 7,
   "id": "cbc7b2be-6fd0-4a40-a6bb-404b072c077a",
   "metadata": {},
   "outputs": [
    {
     "data": {
      "text/plain": [
       "(2.1126607209685946, 0.9832317746641447)"
      ]
     },
     "execution_count": 7,
     "metadata": {},
     "output_type": "execute_result"
    }
   ],
   "source": [
    "# rms improvement\n",
    "Nstars = len(prob_tb1)\n",
    "ages_b1, ages_a1 = np.zeros(Nstars), np.zeros(Nstars)\n",
    "for i in range(Nstars):\n",
    "    ages_b1[i] = np.sum(prob_tb1[i]*t1/np.sum(prob_tb1[i]))/1e9\n",
    "    ages_a1[i] = np.sum(prob_ta1[i]*t1/np.sum(prob_ta1[i]))/1e9\n",
    "np.std(ages_b1), np.std(ages_a1)"
   ]
  },
  {
   "cell_type": "code",
   "execution_count": 8,
   "id": "b2a1f8d0-a31c-431f-bdf6-d98bb382c652",
   "metadata": {},
   "outputs": [
    {
     "data": {
      "text/plain": [
       "(0.45846888423391846, 0.44307486842658356)"
      ]
     },
     "execution_count": 8,
     "metadata": {},
     "output_type": "execute_result"
    }
   ],
   "source": [
    "# rms improvement\n",
    "Nstars = len(prob_tb2)\n",
    "ages_b2, ages_a2 = np.zeros(Nstars), np.zeros(Nstars)\n",
    "for i in range(Nstars):\n",
    "    ages_b2[i] = np.sum(prob_tb2[i]*t2/np.sum(prob_tb2[i]))/1e9\n",
    "    ages_a2[i] = np.sum(prob_ta2[i]*t2/np.sum(prob_ta2[i]))/1e9\n",
    "np.std(ages_b2), np.std(ages_a2)"
   ]
  },
  {
   "cell_type": "code",
   "execution_count": 9,
   "id": "b85d12a9-680d-4d3e-ac49-429a389d8ae0",
   "metadata": {},
   "outputs": [
    {
     "name": "stdout",
     "output_type": "stream",
     "text": [
      "Age/Gyr: 7.88\n",
      "Age/Gyr: 1.72\n"
     ]
    },
    {
     "data": {
      "text/plain": [
       "0"
      ]
     },
     "execution_count": 9,
     "metadata": {},
     "output_type": "execute_result"
    },
    {
     "data": {
      "image/png": "[encoded data removed]",
      "text/plain": [
       "<Figure size 240x240 with 4 Axes>"
      ]
     },
     "metadata": {
      "needs_background": "light"
     },
     "output_type": "display_data"
    }
   ],
   "source": [
    "# program\n",
    "from scipy.optimize import curve_fit\n",
    "\n",
    "fig, axes = plt.subplots(figsize=mnras_size(ratio=1.,column='one'), nrows=2, ncols=2, \n",
    "                         squeeze=False, constrained_layout=True)\n",
    "# axes = axes.reshape(-1)\n",
    "\n",
    "joint_prob_tb1 = np.ones(len(t1))\n",
    "joint_prob_ta1 = np.ones(len(t1))\n",
    "for istar in range(Nstar1):\n",
    "    joint_prob_tb1 *= prob_tb1[istar]\n",
    "    axes[0,0].plot(t1/1e9, prob_tb1[istar]/np.max(prob_tb1), color='lightgray')\n",
    "    joint_prob_ta1 *= prob_ta1[istar]\n",
    "    axes[1,0].plot(t1/1e9, prob_ta1[istar]/np.max(prob_ta1), color='lightgray')\n",
    "print('Age/Gyr: {:.2f}'.format(t1[np.argmax(joint_prob_ta1)]/1e9))\n",
    "\n",
    "    \n",
    "joint_prob_tb2 = np.ones(len(t2))\n",
    "joint_prob_ta2 = np.ones(len(t2))\n",
    "for istar in range(Nstar2):\n",
    "    joint_prob_tb2 *= prob_tb2[istar]\n",
    "    axes[0,1].plot(t2/1e9, prob_tb2[istar]/np.max(prob_tb2), color='lightgray')\n",
    "    joint_prob_ta2 *= prob_ta2[istar]\n",
    "    axes[1,1].plot(t2/1e9, prob_ta2[istar]/np.max(prob_ta2), color='lightgray')\n",
    "print('Age/Gyr: {:.2f}'.format(t2[np.argmax(joint_prob_ta2)]/1e9))\n",
    "\n",
    "    \n",
    "def gauss_function(x, a, x0, sigma):\n",
    "    return a*np.exp(-(x-x0)**2/(2*sigma**2))\n",
    "\n",
    "# popt, pcov = curve_fit(gauss_function, t1/1e9, joint_prob_tb1/np.max(joint_prob_tb1), p0=[1., t1[np.argmax(joint_prob_tb1)]/1e9, 0.07])\n",
    "axes[0,0].plot(t1/1e9, joint_prob_tb1/np.max(joint_prob_tb1), color='k')\n",
    "\n",
    "# popt, pcov = curve_fit(gauss_function, t1/1e9, joint_prob_ta1/np.max(joint_prob_ta1), p0=[1., t1[np.argmax(joint_prob_ta1)]/1e9, 0.07])\n",
    "axes[1,0].plot(t1/1e9, joint_prob_ta1/np.max(joint_prob_ta1), color='k')\n",
    "\n",
    "\n",
    "# popt, pcov = curve_fit(gauss_function, t2/1e9, joint_prob_tb2/np.max(joint_prob_tb2), p0=[1., t2[np.argmax(joint_prob_tb2)]/1e9, 0.07])\n",
    "axes[0,1].plot(t2/1e9, joint_prob_tb2/np.max(joint_prob_tb2), color='k')\n",
    "\n",
    "# popt, pcov = curve_fit(gauss_function, t2/1e9, joint_prob_ta2/np.max(joint_prob_ta2), p0=[1., t2[np.argmax(joint_prob_ta2)]/1e9, 0.07])\n",
    "axes[1,1].plot(t2/1e9, joint_prob_ta2/np.max(joint_prob_ta2), color='k')\n",
    "\n",
    "for ax in axes[:,0].reshape(-1):\n",
    "    ax.set_xlim(0,20)\n",
    "    ax.text(0.97, 0.9, 'NGC6791', transform=ax.transAxes, ha='right')\n",
    "    ax.set_ylabel('Probability')\n",
    "\n",
    "for ax in axes[:,1].reshape(-1):\n",
    "    ax.set_xlim(0,4)\n",
    "    ax.text(0.97, 0.9, 'NGC6819', transform=ax.transAxes, ha='right')\n",
    "    ax.set_yticklabels([])\n",
    "    \n",
    "for ax in axes[0,:].reshape(-1):\n",
    "    ax.text(0.97, 0.65, 'Star-by-star\\n surface\\n correction', transform=ax.transAxes, ha='right', fontsize=fontsize)\n",
    "    ax.set_xticklabels([])\n",
    "    \n",
    "for ax in axes[1,:].reshape(-1):\n",
    "    ax.text(0.97, 0.65, 'Ensemble\\n surface\\n correction', transform=ax.transAxes, ha='right', fontsize=fontsize)\n",
    "    ax.set_xlabel('Age $t$ (Gyr)')\n",
    "\n",
    "\n",
    "fig.set_constrained_layout_pads(w_pad=0.01, h_pad=0.01, hspace=0, wspace=0)\n",
    "\n",
    "\n",
    "filename = 'Fig.5_cluster_age.pdf'\n",
    "\n",
    "plt.savefig(filename)\n",
    "os.system(to_overleaf(filename, 'figures'))"
   ]
  },
  {
   "cell_type": "code",
   "execution_count": null,
   "id": "cadd2339-4fcf-411d-948d-693ddf996e28",
   "metadata": {},
   "outputs": [],
   "source": []
  },
  {
   "cell_type": "code",
   "execution_count": null,
   "id": "c706fefb-939b-4462-9049-dac7562eab3b",
   "metadata": {},
   "outputs": [],
   "source": []
  }
 ],
 "metadata": {
  "kernelspec": {
   "display_name": "Python 3",
   "language": "python",
   "name": "python3"
  },
  "language_info": {
   "codemirror_mode": {
    "name": "ipython",
    "version": 3
   },
   "file_extension": ".py",
   "mimetype": "text/x-python",
   "name": "python",
   "nbconvert_exporter": "python",
   "pygments_lexer": "ipython3",
   "version": "3.7.9"
  }
 },
 "nbformat": 4,
 "nbformat_minor": 5
}
