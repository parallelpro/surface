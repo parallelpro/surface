{
 "cells": [
  {
   "cell_type": "code",
   "execution_count": 1,
   "id": "42674239-f1bd-48ed-a8a9-4ee28535f20a",
   "metadata": {},
   "outputs": [],
   "source": [
    "%run setup.py"
   ]
  },
  {
   "cell_type": "code",
   "execution_count": 2,
   "id": "c781a928-6241-4cd5-a07c-cb167e1c1024",
   "metadata": {},
   "outputs": [],
   "source": [
    "import scipy"
   ]
  },
  {
   "cell_type": "code",
   "execution_count": 3,
   "id": "85188fdd-ffbd-4e8a-8286-d9c3ba3aa1e3",
   "metadata": {},
   "outputs": [
    {
     "name": "stdout",
     "output_type": "stream",
     "text": [
      "Processing : /import/silo5/yali4742/numax-sc-metallicity/hpc/solar_a09_ov/outputs/sample0060.sum\n"
     ]
    }
   ],
   "source": [
    "# read in observational freqs\n",
    "obs = pd.read_excel(rootpath+'solar_freq.xlsx')\n",
    "\n",
    "# read in model S freqs\n",
    "modS = pd.read_fwf(rootpath+'model_S.dat',skiprows=1,infer_nrows =3800)\n",
    "\n",
    "l0 = modS['l']==0\n",
    "fi = scipy.interpolate.interp1d(np.array(modS.loc[l0,'freq']), \n",
    "      np.array(modS.loc[l0,'E_norm']), kind='cubic', fill_value='extrapolate')\n",
    "\n",
    "# merge\n",
    "modS = pd.merge(obs, modS, on=['l', 'n'], suffixes=('_obs', '_mod'))\n",
    "for imode, mode in modS.iterrows():\n",
    "    modS.loc[imode, 'Q'] = mode['E_norm']/fi(mode['freq_mod'])\n",
    "    \n",
    "# surf corr\n",
    "modS['freq_mod_cor'] = se.get_surface_correction(np.array(modS['freq_obs']), np.array(modS['l']), \n",
    "                                                  np.array(modS['freq_mod']), np.array(modS['l']), \n",
    "                                                  np.array(modS['E_norm']), 3100., formula='combined')\n",
    "\n",
    "\n",
    "# read in our solar model\n",
    "s = se.sums(rootpath+'hpc/solar_a09_ov/outputs/sample0060.sum').sums\n",
    "\n",
    "cols = ['l','n_p','Refreq','E_norm']\n",
    "data = np.array([s[col][irow] for col in cols for irow in range(s.shape[0])]).reshape(-1,s.shape[0]).T\n",
    "mod = pd.DataFrame(data, columns=['l','n','freq','E_norm'])\n",
    "idx = mod['l']==1\n",
    "mod.loc[idx,'n'] += 1\n",
    "\n",
    "l0 = mod['l']==0\n",
    "fi = scipy.interpolate.interp1d(np.array(mod.loc[l0,'freq']), \n",
    "      np.array(mod.loc[l0,'E_norm']), kind='cubic', fill_value='extrapolate')\n",
    "\n",
    "# merge\n",
    "mod = pd.merge(obs, mod, on=['l', 'n'], suffixes=('_obs', '_mod'))\n",
    "for imode, mode in mod.iterrows():\n",
    "    mod.loc[imode, 'Q'] = mode['E_norm']/fi(mode['freq_mod'])\n",
    "\n",
    "# surf corr\n",
    "mod['freq_mod_cor'] = se.get_surface_correction(np.array(mod['freq_obs']), np.array(mod['l']), \n",
    "                                                  np.array(mod['freq_mod']), np.array(mod['l']), \n",
    "                                                  np.array(mod['E_norm']), 3100., formula='combined')"
   ]
  },
  {
   "cell_type": "code",
   "execution_count": 4,
   "id": "b7fe1c18-c75a-4ffe-825c-d90518212563",
   "metadata": {},
   "outputs": [
    {
     "data": {
      "text/plain": [
       "0"
      ]
     },
     "execution_count": 4,
     "metadata": {},
     "output_type": "execute_result"
    },
    {
     "data": {
      "image/png": "[encoded data removed]",
      "text/plain": [
       "<Figure size 240x216 with 4 Axes>"
      ]
     },
     "metadata": {
      "needs_background": "light"
     },
     "output_type": "display_data"
    }
   ],
   "source": [
    "fig, axes = plt.subplots(figsize=mnras_size(ratio=0.9,column='one'),  \\\n",
    "                         nrows=2,ncols=1,squeeze=False,constrained_layout=True)\n",
    "axes = axes.reshape(-1)\n",
    "\n",
    "idx = modS['l']==0\n",
    "axes[0].scatter(modS.loc[idx,'freq_obs'], (modS.loc[idx,'freq_obs']-modS.loc[idx,'freq_mod'])*mod.loc[idx,'Q'], marker='x',zorder=10,c='k')\n",
    "c=axes[0].scatter(modS['freq_obs'], (modS['freq_obs']-modS['freq_mod'])*modS['Q'], c=modS['l'], cmap='summer', s=1)\n",
    "plt.colorbar(c,ax=axes[0]).set_label('$l$-degree')\n",
    "\n",
    "\n",
    "\n",
    "idx = mod['l']==0\n",
    "axes[1].scatter(mod.loc[idx,'freq_obs'], (mod.loc[idx,'freq_obs']-mod.loc[idx,'freq_mod'])*mod.loc[idx,'Q'], marker='x',zorder=10,c='k')\n",
    "c=axes[1].scatter(mod['freq_obs'], (mod['freq_obs']-mod['freq_mod'])*mod['Q'], c=mod['l'], cmap='summer', s=1)\n",
    "plt.colorbar(c,ax=axes[1]).set_label('$l$-degree')\n",
    "\n",
    "\n",
    "cases = ['The model S', 'The solar model in this work']\n",
    "for iax in range(2):\n",
    "    axes[iax].axis([900,4200,-20,7.])\n",
    "    axes[iax].text(0.98, 0.9, cases[iax], transform=axes[iax].transAxes, ha='right')\n",
    "    axes[iax].set_ylabel('$Q\\\\cdot\\\\delta\\\\nu$ ($\\\\mu$Hz)')\n",
    "    \n",
    "axes[1].set_xlabel('$\\\\nu$ ($\\\\mu$Hz)')\n",
    "axes[0].set_xticklabels([])\n",
    "fig.set_constrained_layout_pads(w_pad=0.01, h_pad=0.01, hspace=0, wspace=0)\n",
    "\n",
    "filename = 'Fig.3_solar_models.pdf'\n",
    "\n",
    "plt.savefig(filename)\n",
    "os.system(to_overleaf(filename, 'figures'))"
   ]
  },
  {
   "cell_type": "markdown",
   "id": "233a9cd7-41ca-4086-b54a-16624be70117",
   "metadata": {},
   "source": [
    "# Identify the solar model before and after applying the prescription"
   ]
  },
  {
   "cell_type": "code",
   "execution_count": 33,
   "id": "55dfd324-233f-4bd1-a228-e087f7ffc531",
   "metadata": {},
   "outputs": [
    {
     "name": "stdout",
     "output_type": "stream",
     "text": [
      "best_model_by,chi2,chi2_nonseis,chi2_seis,index,star_age,star_mass,luminosity,radius,Teff,Yinit,Xinit,Zinit,log_g,amlt,FeH,delta_nu_scaling,numax_scaling,acoustic_cutoff,profile_number,Dnu_freq,surf_a3,surf_corr_at_numax,Dnu_freq_sc\n",
      "chi2,0.9285279021152015,0.6278348772790195,0.30069302483618204,8039.0,7026853376.573156,0.91782,0.9981685921764976,0.9710345634462841,5854.775020265289,0.28385193,0.70355151,0.01259657,4.426355767056679,2.20777,-0.006032073236551305,135.26395278955337,2987.739283527815,2987.739283527815,83.0,135.75910188626798,-2.6732688175998708e-08,-3.7796395939065137,134.95705131901877\n",
      "chi2_nonseis,296.59010520528176,0.03927466830658242,296.5508305369752,5623.0,3517708393.4575305,1.05259,1.0028519224972576,1.0036515757643618,5765.597196605275,0.22845642,0.75766575,0.01387783,4.457160925460305,2.05567,0.003853122420452104,137.85118784190067,3232.070403949794,3232.070403949794,46.0,138.02177036929766,-3.2373008432333057e-07,-35.285335079695535,129.7772178572057\n",
      "chi2_seis,18.768813113921805,18.722825060679014,0.045988053242789234,1447.0,6342719934.258226,0.92729,0.9370878110853762,0.9746392418866258,5752.408322936623,0.30553772,0.67717447,0.01728781,4.427595416850331,1.998846,0.148049748543579,135.2064148385966,3022.8221769118545,3022.8221769118545,73.0,135.8802440971945,-3.60451808772814e-08,-4.536156804883412,134.88885812295726\n"
     ]
    }
   ],
   "source": [
    "cat ../../hpc/results_cubic/000000000/summary_best.txt"
   ]
  },
  {
   "cell_type": "code",
   "execution_count": null,
   "id": "eac370d0-6dd9-4add-a3ca-311a26b0963c",
   "metadata": {},
   "outputs": [],
   "source": [
    "8039.0, 0.91782, 83.0"
   ]
  },
  {
   "cell_type": "code",
   "execution_count": 42,
   "id": "f613464f-ae65-4df6-a01f-0b3d07349c49",
   "metadata": {},
   "outputs": [
    {
     "name": "stdout",
     "output_type": "stream",
     "text": [
      "best_model_by,chi2,index,star_age,star_mass,luminosity,radius,Teff,Yinit,Xinit,Zinit,log_g,amlt,FeH,delta_nu_scaling,numax_scaling,profile_number\n",
      "chi2,0.9285698494309012,8039.0,7026853376.573156,0.91782,0.9981685921764976,0.9710345634462841,5854.775020265289,0.28385193,0.70355151,0.01259657,4.426355767056679,2.20777,-0.006032073236551305,135.26395278955337,2987.739283527815,83.0\n",
      "chi2_classical,0.03927466830658242,5623.0,3517708393.4575305,1.05259,1.0028519224972576,1.0036515757643618,5765.597196605275,0.22845642,0.75766575,0.01387783,4.457160925460305,2.05567,0.003853122420452104,137.85118784190067,3232.070403949794,46.0\n",
      "chi2_seismic,0.10860180517965584,6023.0,4686756407.460272,0.99321,1.0789756379220332,0.9957448711376985,5895.293765581798,0.25130798,0.73743391,0.01125811,4.4388125545786865,2.178717,-0.07524758505228579,135.5045173349695,3064.0924514456296,58.0\n"
     ]
    }
   ],
   "source": [
    "cat ../../hpc/results_sc_cubic_linear_nueff/0/summary_best.txt"
   ]
  },
  {
   "cell_type": "code",
   "execution_count": null,
   "id": "679a9990-5c5a-4957-8778-746470306b34",
   "metadata": {},
   "outputs": [],
   "source": [
    "8039.0, 0.91782, 83.0"
   ]
  }
 ],
 "metadata": {
  "kernelspec": {
   "display_name": "Python 3",
   "language": "python",
   "name": "python3"
  },
  "language_info": {
   "codemirror_mode": {
    "name": "ipython",
    "version": 3
   },
   "file_extension": ".py",
   "mimetype": "text/x-python",
   "name": "python",
   "nbconvert_exporter": "python",
   "pygments_lexer": "ipython3",
   "version": "3.7.9"
  }
 },
 "nbformat": 4,
 "nbformat_minor": 5
}
