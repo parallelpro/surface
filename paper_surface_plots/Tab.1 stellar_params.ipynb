{
 "cells": [
  {
   "cell_type": "code",
   "execution_count": 1,
   "id": "8eb2b0d1-b686-4ef3-a097-098507f21fa9",
   "metadata": {},
   "outputs": [],
   "source": [
    "%run setup.py"
   ]
  },
  {
   "cell_type": "code",
   "execution_count": 2,
   "id": "d400fe93-96aa-4c26-affd-1f50cfa85b12",
   "metadata": {},
   "outputs": [],
   "source": [
    "data = pd.read_excel('../sample/samples.xlsx')\n",
    "\n",
    "idx = ~np.isfinite(data['Dnu'])\n",
    "data.loc[idx, 'Dnu'] = data.loc[idx, 'Dnu_guess']\n",
    "\n",
    "idx = np.isfinite(data['ifmodelling']) & np.isfinite(data['Dnu']) & (np.isfinite(data['lum_J'])) & \\\n",
    "        (data['[M/H]'] > -0.7) & (~np.isin(data['names'], ['binary', 'Procyon/A', 'Procyon/B']))\n",
    "\n",
    "data = data[idx].reset_index(drop=True)"
   ]
  },
  {
   "cell_type": "code",
   "execution_count": 4,
   "id": "ed4ce67b-8885-4c98-8461-afd4f859ea26",
   "metadata": {
    "tags": []
   },
   "outputs": [],
   "source": [
    "# data[['KIC', 'lum_J', 'Teff', 'Dnu', 'numax', '[M/H]']]\n",
    "\n",
    "lum, e_lum, r_lum = '$L$', r'$\\sigma_L$', 'Ref($L$)'\n",
    "Teff, e_Teff, r_Teff = r'$T_{\\rm eff}$', r'$\\sigma_{T_{\\rm eff}}$', r'Ref($T_{\\rm eff}$)'\n",
    "mh, e_mh, r_mh = r'${\\rm [M/H]}$', r'$\\sigma_{\\rm [M/H]}$', r'Ref(${\\rm [M/H]}$)'\n",
    "\n",
    "data['Star'] = 'KIC'+data['KIC'].astype('str')\n",
    "data.loc[data['KIC']==1, 'Star'] = r'$\\mu$ Her'\n",
    "data.loc[data['KIC']==0, 'Star'] = '$\\rm Sun$'\n",
    "\n",
    "# Luminosity\n",
    "data[lum] = data['lum_J'].round(4)\n",
    "data[e_lum] = data['e_lum_J'].round(4)\n",
    "data[r_lum] = '0'\n",
    "data.loc[data['KIC']==1, r_lum] = '2'\n",
    "data.loc[data['KIC']==0, r_lum] = '---'\n",
    "\n",
    "\n",
    "# Teff\n",
    "data[Teff] = data['Teff'].round(0)\n",
    "data[e_Teff] = data['e_Teff'].round(0)\n",
    "data.loc[np.abs(data[Teff]-data['Teff_phot'])<0.01, r_Teff] = '1'\n",
    "data.loc[data['KIC']==1, r_Teff] = '3'\n",
    "data.loc[data['KIC']==0, r_Teff] = '---'\n",
    "\n",
    "# mh\n",
    "data[mh] = data['[M/H]'].round(3)\n",
    "data[e_mh] = 0.05\n",
    "data.loc[data['KIC']==1, r_mh] = '3'\n",
    "data.loc[data['KIC']==0, r_mh] = '---'\n",
    "data.loc[np.abs(data[mh]-(data['[Fe/H]_F18']+0.01))<0.005, r_mh] = '4'\n",
    "data.loc[np.abs(data[mh]-(data['[Fe/H]_L17']+0.03))<0.005, r_mh] = '5'\n",
    "data.loc[np.abs(data[mh]-(data['[Fe/H]_keck']-0.09))<0.005, r_mh] = '0'\n",
    "data.loc[np.abs(data[mh]-(data['[M/H]_B15']+0.02))<0.005, r_mh] = '7'\n",
    "data.loc[np.abs(data[mh]-data['[M/H]_apo'])<0.0001, r_mh] = '6'\n",
    "data.loc[np.isin(data['names'], ['ngc6819', 'ngc6791']), r_mh] = '6'\n",
    "# data.loc[data[mh]==data['[Fe/H]_'], r_mh] = '6'\n",
    "\n",
    "# Dnu\n",
    "# data[r'$\\Delta\\nu$'] = data['Dnu']\n",
    "# data[r'$\\sigma_{\\Delta\\nu}$'] = data['e_Dnu']\n",
    "# data['Ref_Dnu'] = \n",
    "\n",
    "# data['numax'] = r'$\\nu_{\\rm max}$'\n",
    "# data['e_numax'] = \n",
    "# data['Ref_numax'] = \n",
    "\n",
    "refs_dict = {\n",
    "'0': '(This work)',\n",
    "'1': '\\citep{casagrande++2021-irfm-gaia}',\n",
    "'2': '\\citep{grundahl++2017-mu-her}', \n",
    "'3': '\\citep{jofre++2015-star-params}',\n",
    "'4': '\\citep{furlan++2018-kepler}',\n",
    "'5': '\\citep{lund++2017-legacy-kepler-1}',\n",
    "'6': '\\citep{ahunmada++2020-apogee-dr16}',\n",
    "'7': '\\citep{buchhave++2015-feh}',\n",
    "}\n"
   ]
  },
  {
   "cell_type": "code",
   "execution_count": 5,
   "id": "ac406067-ff27-481a-a9ff-9fff48afd6d8",
   "metadata": {},
   "outputs": [
    {
     "data": {
      "text/plain": [
       "6      1190\n",
       "4        36\n",
       "0        21\n",
       "7         6\n",
       "5         5\n",
       "3         1\n",
       "---       1\n",
       "Name: Ref(${\\rm [M/H]}$), dtype: int64"
      ]
     },
     "execution_count": 5,
     "metadata": {},
     "output_type": "execute_result"
    }
   ],
   "source": [
    "data[r_mh].value_counts()"
   ]
  },
  {
   "cell_type": "code",
   "execution_count": 6,
   "id": "ddf67c73-a40b-4303-9954-c5201f0d9619",
   "metadata": {},
   "outputs": [],
   "source": [
    "# idx = data[r_mh].isna() | data[r_lum].isna() | data[r_Teff].isna()\n",
    "# data.index[data['Star']=='Sun']=0\n",
    "data.loc[:, ['Star', #'stage', 'names',\n",
    "     lum, e_lum, r_lum, \n",
    "     Teff, e_Teff, r_Teff,\n",
    "     mh, e_mh, r_mh]].sort_values('Star').reset_index(drop=True).to_csv('Tab.1_stellar_params_full.txt', index=False)#.head(10)\n",
    "\n",
    "# full table first two rows\n",
    "#Star,L,e_L,ref_L,Teff,e_Teff,ref_Teff,[M/H],e_[M/H],ref_[M/H]\n",
    "# Sun,1.0,0.02,---,5777.0,100.0,---,0.0,0.05,---"
   ]
  },
  {
   "cell_type": "code",
   "execution_count": 7,
   "id": "678f8d25-8894-4ece-80b2-c6822445dc29",
   "metadata": {},
   "outputs": [],
   "source": [
    "data = data.sort_values('Star').iloc[0:9]"
   ]
  },
  {
   "cell_type": "code",
   "execution_count": 8,
   "id": "8e0c032f-1912-4781-9d41-c512dc6fa45d",
   "metadata": {},
   "outputs": [],
   "source": [
    "def my_write_latex_table(listofcol, listofcolerr, listofcolname, listofcolformat, listofcolerrformat, filename, expandcolumns=True, scaption='', slabel='', snote='', sfootnote='',align=None):\n",
    "    # version 2 - modified in 20/Dec/2018 - added footnote\n",
    "\n",
    "    # test if input lists are of equal length\n",
    "    a, b, c, d, e = [len(obj) for obj in [listofcol, listofcolerr, listofcolname, listofcolformat, listofcolerrformat]]\n",
    "    assert a == b == c == d == e\n",
    "\n",
    "    # configure footnote\n",
    "    if sfootnote == '':\n",
    "        footnote = ''\n",
    "    else:\n",
    "        footnote = '\\n \\\\begin{tablenotes}  \\n \\\\item \\\\emph{Note}: ' + sfootnote + '\\n \\\\end{tablenotes}'\n",
    "\n",
    "    # create a pandas table\n",
    "\n",
    "    listofdata = [[listofcolformat[tcol].format(listofcol[tcol][trow]) + listofcolerrformat[tcol].format(listofcolerr[tcol][trow])  for trow in range(len(listofcol[0]))] \n",
    "        for tcol in range(len(listofcol))]\n",
    "\n",
    "    table = pd.DataFrame(np.array(listofdata).T, columns = listofcolname)\n",
    "\n",
    "    f = open(filename,'w')\n",
    "\n",
    "    stable = 'table*' if expandcolumns else 'table'\n",
    "    f.write('\\\\begin{'+stable+'} \\n')\n",
    "#     f.write('\\tiny \\n')\n",
    "    f.write('\\caption{'+scaption+' \\n')\n",
    "    f.write('\\label{'+slabel+'} \\\\\\\\ \\n')\n",
    "    f.write(snote+'} \\n')\n",
    "\n",
    "\n",
    "    ncol = table.shape[1]\n",
    "    if align is None: align = 'l'+'c'*ncol\n",
    "    s = table.to_latex(index=False, float_format='%.2f', escape=False, column_format=''+align) #@{\\extracolsep{\\\\fill}}\n",
    "    width = 'textwidth' if expandcolumns else 'columnwidth'\n",
    "    s = s.replace('\\\\begin{tabular}', '\\\\begin{tabular*}{1.01\\\\'+width+'}')\n",
    "    s = s.replace('\\\\end{tabular}', '\\\\end{tabular*}'+footnote)\n",
    "\n",
    "    f.write(s)\n",
    "\n",
    "    f.write('\\\\end{'+stable+'} \\n')\n",
    "    f.close()"
   ]
  },
  {
   "cell_type": "code",
   "execution_count": null,
   "id": "8c7462a0-2da5-493c-b05d-5d5001b112f8",
   "metadata": {},
   "outputs": [],
   "source": []
  },
  {
   "cell_type": "code",
   "execution_count": 183,
   "id": "da5f9c8c-9346-4560-837b-416683bff1c6",
   "metadata": {},
   "outputs": [],
   "source": [
    "listofcol1 = [ data['Star'].to_numpy(),\n",
    "               data[lum].round(2).astype(str).to_numpy(),\n",
    "               data[e_lum].round(2).astype(str).to_numpy(),\n",
    "               data[r_lum].astype(str).to_numpy(),\n",
    "               data[Teff].astype(int).astype(str).to_numpy(),\n",
    "               data[e_Teff].astype(int).astype(str).to_numpy(),\n",
    "               data[r_Teff].astype(str).to_numpy(),\n",
    "               data[mh].round(2).astype(str).to_numpy(),\n",
    "               data[e_mh].round(2).astype(str).to_numpy(),\n",
    "               data[r_mh].astype(str).to_numpy()]\n",
    "\n",
    "listofcolerr1 = listofcol1\n",
    "listofcolname1 = ['Star', lum, e_lum, r_lum, Teff, e_Teff, r_Teff, mh, e_mh, r_mh]\n",
    "listofcolformat = ['{:s}']*10\n",
    "listofcolerrformat = ['']*10\n",
    "\n",
    "blistofcol = listofcol1\n",
    "blistofcolerr = listofcolerr1\n",
    "blistofcolname = listofcolname1\n",
    "blistofcolformat = listofcolformat\n",
    "blistofcolerrformat = listofcolerrformat\n",
    "\n",
    "caption = 'Stellar parameters of the studied sample.'\n",
    "filename = 'Tab.1_stellar_params.txt'\n",
    "label = 'tab:stellar-params'\n",
    "align = '@{\\extracolsep{\\\\fill}}lrrrrrrrrrrrr'\n",
    "footnote = 'References for the stellar parameters:'+';'.join([' {} {}'.format(key, refs_dict[key]) for key in refs_dict.keys()]) +\\\n",
    "'. Only the first 10 lines are shown. The full table can be accessed online.'\n",
    "my_write_latex_table(blistofcol, blistofcolerr, blistofcolname, blistofcolformat, blistofcolerrformat, filename, \n",
    "\texpandcolumns=True, scaption=caption, slabel=label, align=align, sfootnote=footnote)\n",
    "# os.system(to_overleaf(filename, 'tables'))"
   ]
  },
  {
   "cell_type": "code",
   "execution_count": null,
   "id": "8f9708fd-43b1-4295-8170-dabfe1df8618",
   "metadata": {},
   "outputs": [],
   "source": []
  }
 ],
 "metadata": {
  "kernelspec": {
   "display_name": "Python 3",
   "language": "python",
   "name": "python3"
  },
  "language_info": {
   "codemirror_mode": {
    "name": "ipython",
    "version": 3
   },
   "file_extension": ".py",
   "mimetype": "text/x-python",
   "name": "python",
   "nbconvert_exporter": "python",
   "pygments_lexer": "ipython3",
   "version": "3.7.9"
  }
 },
 "nbformat": 4,
 "nbformat_minor": 5
}
