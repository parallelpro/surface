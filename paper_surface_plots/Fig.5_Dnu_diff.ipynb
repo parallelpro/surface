{
 "cells": [
  {
   "cell_type": "code",
   "execution_count": 1,
   "id": "1d8d5743-caaf-44fd-b08d-98f2ba8a31c1",
   "metadata": {},
   "outputs": [],
   "source": [
    "%run setup.py"
   ]
  },
  {
   "cell_type": "code",
   "execution_count": 2,
   "id": "79b12201-d8e3-46a4-877b-b53f681354bf",
   "metadata": {},
   "outputs": [],
   "source": [
    "stars = pd.read_excel(rootpath+'surface/sample/samples.xlsx')\n",
    "idx = (stars['ifmodelling']==1) & ((stars['e_lum_J']/stars['lum_J'])<0.3) & np.isfinite(stars['Teff']) & np.isfinite(stars['[M/H]'])\n",
    "\n",
    "stars = stars.loc[idx,:].reset_index(drop=True)\n",
    "       \n",
    "idx = ~np.isfinite(stars['Dnu'])\n",
    "stars.loc[idx, 'Dnu'] = stars.loc[idx, 'Dnu_guess']\n",
    "\n",
    "# modes = pd.read_excel(rootpath+'surface/sample/modes.xlsx')"
   ]
  },
  {
   "cell_type": "code",
   "execution_count": 6,
   "id": "2d8d3a9f-1416-4e4a-b04f-7f03a4bdada6",
   "metadata": {},
   "outputs": [
    {
     "data": {
      "application/vnd.jupyter.widget-view+json": {
       "model_id": "9aeeecd499d7479794e4084dd70259ce",
       "version_major": 2,
       "version_minor": 0
      },
      "text/plain": [
       "  0%|          | 0/1276 [00:00<?, ?it/s]"
      ]
     },
     "metadata": {},
     "output_type": "display_data"
    },
    {
     "data": {
      "application/vnd.jupyter.widget-view+json": {
       "model_id": "62135f271f6d42d0891c96d9e2ac8ace",
       "version_major": 2,
       "version_minor": 0
      },
      "text/plain": [
       "  0%|          | 0/1276 [00:00<?, ?it/s]"
      ]
     },
     "metadata": {},
     "output_type": "display_data"
    }
   ],
   "source": [
    "suf = '_micp'\n",
    "original_cols = ['Dnu_freq_o', 'Dnu_freq', 'star_mass', 'radius', 'amlt']\n",
    "to_append_cols = ['Dnu_freq_o'+suf, 'Dnu_freq'+suf, 'mass'+suf, 'radius'+suf, 'amlt'+suf]\n",
    "to_append_e_cols = ['e_'+col for col in to_append_cols]\n",
    "\n",
    "def multi(inputs):\n",
    "    istar, star = inputs\n",
    "    filepath = rootpath+'surface/exp/results_spec_gaia_nu_sc/{:0.0f}/summary_prob.txt'.format(star['KIC'])\n",
    "    if not os.path.exists(filepath): return [np.nan]*(len(to_append_cols)*2)\n",
    "    data = ascii.read(filepath, delimiter=',')\n",
    "    var = list(data[original_cols][1])\n",
    "    e_var = list((np.array(list(data[original_cols][2])) - np.array(list(data[original_cols][0])))/2.)\n",
    "    return var + e_var\n",
    "\n",
    "r = process_map(multi, stars.iterrows(), total=len(stars), max_workers=12)\n",
    "stars.loc[:, to_append_cols+to_append_e_cols]  = np.array(r)\n",
    "\n",
    "\n",
    "suf = '_mic'\n",
    "original_cols = ['Dnu_freq', 'Dnu_freq_sc', 'star_mass', 'radius', 'amlt']\n",
    "to_append_cols = ['Dnu_freq_o'+suf, 'Dnu_freq'+suf, 'mass'+suf, 'radius'+suf, 'amlt'+suf]\n",
    "to_append_e_cols = ['e_'+col for col in to_append_cols]\n",
    "\n",
    "def multi(inputs):\n",
    "    istar, star = inputs\n",
    "    filepath = rootpath+'surface/exp/results_spec_gaia_nu/{:0.0f}/summary_prob.txt'.format(star['KIC'])\n",
    "    if not os.path.exists(filepath): return [np.nan]*(len(to_append_cols)*2)\n",
    "    data = ascii.read(filepath, delimiter=',')\n",
    "    var = list(data[original_cols][1])\n",
    "    e_var = list((np.array(list(data[original_cols][2])) - np.array(list(data[original_cols][0])))/2.)\n",
    "    return var + e_var\n",
    "\n",
    "r = process_map(multi, stars.iterrows(), total=len(stars), max_workers=12)\n",
    "stars.loc[:, to_append_cols+to_append_e_cols]  = np.array(r)"
   ]
  },
  {
   "cell_type": "code",
   "execution_count": null,
   "id": "c933c80a-37db-40f2-8a7e-fe5cc7aada63",
   "metadata": {},
   "outputs": [],
   "source": []
  },
  {
   "cell_type": "code",
   "execution_count": 9,
   "id": "9f9c0a42-f8fe-4cad-9d6d-0d03702822a9",
   "metadata": {},
   "outputs": [
    {
     "data": {
      "image/png": "[encoded data removed]",
      "text/plain": [
       "<Figure size 240x192 with 2 Axes>"
      ]
     },
     "metadata": {
      "needs_background": "light"
     },
     "output_type": "display_data"
    }
   ],
   "source": [
    "import matplotlib.colors\n",
    "norm = matplotlib.colors.Normalize(vmin=-0.5,vmax=0.5)\n",
    "\n",
    "\n",
    "fig, axes = plt.subplots(figsize=mnras_size(ratio=0.8,column='one'), nrows=2, ncols=1, \n",
    "                         squeeze=False, constrained_layout=True)\n",
    "axes = axes.reshape(-1)\n",
    "\n",
    "# idx = ((stars['numax']>0) & (stars['ALPHA_M']<0.05) & (stars['ALPHA_M']>-0.05)) |(stars['names']=='Sun') # & np.isfinite(stars['DPi1_V16'])\n",
    "# sample = stars.loc[idx,:]\n",
    "idx = np.isfinite(stars['Dnu_freq_mic']) & ((stars['Dnu_freq_micp']/stars['Dnu']-1)<0.05) & (stars['Dnu']>3.0)\n",
    "\n",
    "sample = stars.loc[idx,:]\n",
    "\n",
    "styles1 = {'marker':'.', 'c':'gray', 's':4,}\n",
    "estyles1 = {'linestyle':'-', 'color':'k', 'ecolor':'k', 'capsize':2, 'marker':'o', 'ms':4, 'zorder':10}\n",
    "\n",
    "\n",
    "styles2 = {'marker':'.', 'c':red, 's':4, 'zorder':10}\n",
    "estyles2 = {'linestyle':'-', 'color':'firebrick', 'ecolor':'firebrick', 'capsize':2, 'marker':'o', 'ms':4, 'zorder':10}\n",
    "\n",
    "\n",
    "var = ['mic', 'micp']\n",
    "# ['density', 'g', 'Dnu_scaling', 'Dnu_freq', 'Teff', 'amlt', 'Yinit', 'luminosity', 'numax']\n",
    "lvar = ['Dnu', 'Dnu', 't']\n",
    "\n",
    "for iax, ax in enumerate(axes[0:2]):\n",
    "    \n",
    "    var1 = 'Dnu_freq_o_'+var[iax]\n",
    "    evar1 = 'e_Dnu_freq_o_'+var[iax]\n",
    "    \n",
    "    var2 = 'Dnu_freq_'+var[iax]\n",
    "    evar2 = 'e_Dnu_freq_'+var[iax]\n",
    "    \n",
    "    var0 = 'Dnu'\n",
    "    evar0 = 'e_Dnu'\n",
    "\n",
    "    x = sample.loc[:,'numax']\n",
    "    y1 = (sample.loc[:,var1]/sample.loc[:,var0]-1)*100\n",
    "    y2 = (sample.loc[:,var2]/sample.loc[:,var0]-1)*100\n",
    "    \n",
    "    ex = sample.loc[:,'e_numax']\n",
    "    ey1 = y1*((sample.loc[:,evar1]/sample.loc[:,var1])**2.0 + (sample.loc[:,evar0]/sample.loc[:,var0])**2.0)**0.5\n",
    "    ey2 = y2*((sample.loc[:,evar2]/sample.loc[:,var2])**2.0 + (sample.loc[:,evar0]/sample.loc[:,var0])**2.0)**0.5\n",
    "    \n",
    "    idx = np.isfinite(x) & np.isfinite(y1) & np.isfinite(ey1) & np.isfinite(ex) & np.isfinite(y2) & np.isfinite(ey2)\n",
    "    x,ex,y1,ey1,y2,ey2 = x[idx],ex[idx],y1[idx],ey1[idx],y2[idx],ey2[idx]\n",
    "    \n",
    "    xcs, medians, stds = se.get_binned_median(x, y1, np.logspace(np.log(20), np.log(3500), 14, base=np.e))\n",
    "    ax.scatter(x, y1, rasterized=True,  **styles1)\n",
    "#     ax.errorbar(x, y1, xerr=ex, yerr=ey1, **errorstyles1)\n",
    "    ax.errorbar(xcs, medians, yerr=stds, **estyles1)\n",
    "    \n",
    "    xcs, medians, stds = se.get_binned_median(x, y2, np.logspace(np.log(20), np.log(3500), 14, base=np.e))\n",
    "    ax.scatter(x, y2, rasterized=True,  **styles2)\n",
    "#     ax.errorbar(x, y2, xerr=ex, yerr=ey2, **errorstyles2)\n",
    "    ax.errorbar(xcs, medians, yerr=stds, **estyles2)\n",
    "    \n",
    "    ax.set_xlim(10, 5000)\n",
    "    \n",
    "\n",
    "    ax.set_xscale('log')\n",
    "    ax.axhline(0., linestyle='--', color='gray')\n",
    "    ax.set_ylabel('$d \\\\ \\\\Delta\\\\nu \\\\ / \\\\Delta\\\\nu$ (\\\\%)')\n",
    "\n",
    "\n",
    "axes[0].set_title('$d$: modelled - observed')\n",
    "axes[0].text(0.98, 0.95, 'Star-by-star surface correction', transform=axes[0].transAxes, ha='right', va='top', color='k')\n",
    "axes[0].text(0.98, 0.20, 'Before surface correction', transform=axes[0].transAxes, ha='right', va='top', color='gray')\n",
    "axes[0].text(0.98, 0.10, 'After surface correction', transform=axes[0].transAxes, ha='right', va='top', color='firebrick')\n",
    "\n",
    "axes[1].text(0.98, 0.95, 'Ensemble surface correction', transform=axes[1].transAxes, ha='right', va='top', color='k')\n",
    "axes[1].text(0.98, 0.20, 'Before surface correction', transform=axes[1].transAxes, ha='right', va='top', color='gray')\n",
    "axes[1].text(0.98, 0.10, 'After surface correction', transform=axes[1].transAxes, ha='right', va='top', color='firebrick')\n",
    "\n",
    "\n",
    "axes[-1].set_xlabel('$\\\\nu_{\\\\rm max}$ ($\\\\mu$Hz)')\n",
    "axes[0].set_xticklabels([])\n",
    "axes[0].set_ylim(-15,15)\n",
    "axes[1].set_ylim(-15,15)\n",
    "# axes[0].set_ylim(-3,3)\n",
    "# axes[1].set_ylim(-3,3)\n",
    "fig.set_constrained_layout_pads(w_pad=0.01, h_pad=0.01, hspace=0, wspace=0)\n",
    "\n",
    "\n",
    "\n",
    "filename = 'Fig.5_Dnu_diff.pdf'\n",
    "\n",
    "# plt.savefig(filename)\n",
    "# os.system(to_overleaf(filename, 'figures'))"
   ]
  },
  {
   "cell_type": "code",
   "execution_count": null,
   "id": "d67336a6-65df-4479-bb6f-d7888707f56b",
   "metadata": {},
   "outputs": [],
   "source": []
  }
 ],
 "metadata": {
  "kernelspec": {
   "display_name": "Python 3",
   "language": "python",
   "name": "python3"
  },
  "language_info": {
   "codemirror_mode": {
    "name": "ipython",
    "version": 3
   },
   "file_extension": ".py",
   "mimetype": "text/x-python",
   "name": "python",
   "nbconvert_exporter": "python",
   "pygments_lexer": "ipython3",
   "version": "3.7.9"
  }
 },
 "nbformat": 4,
 "nbformat_minor": 5
}
