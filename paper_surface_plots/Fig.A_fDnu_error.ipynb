{
 "cells": [
  {
   "cell_type": "code",
   "execution_count": 1,
   "id": "d5428161-33c4-4b96-b792-338d3a1bb825",
   "metadata": {},
   "outputs": [],
   "source": [
    "%run setup.py"
   ]
  },
  {
   "cell_type": "code",
   "execution_count": 6,
   "id": "45c26c20-eac2-4cd1-9efc-4fa311411aa6",
   "metadata": {},
   "outputs": [],
   "source": [
    "fakestars = pd.read_csv('../data/fDnu_model_physics_data.csv')"
   ]
  },
  {
   "cell_type": "code",
   "execution_count": 8,
   "id": "6858a23c-805b-4b62-a4be-261efd9eb7f1",
   "metadata": {},
   "outputs": [],
   "source": [
    "fakestars['fDnu_t'] = fakestars['fDnu']\n",
    "fakestars['e_fDnu_t'] = fakestars['e_fDnu']\n"
   ]
  },
  {
   "cell_type": "code",
   "execution_count": null,
   "id": "5023a002-b300-4ffc-ac73-7a629c422eb5",
   "metadata": {},
   "outputs": [],
   "source": []
  },
  {
   "cell_type": "code",
   "execution_count": 11,
   "id": "894830a2-594f-4287-8384-0cc2cea21663",
   "metadata": {},
   "outputs": [
    {
     "data": {
      "text/plain": [
       "0"
      ]
     },
     "execution_count": 11,
     "metadata": {},
     "output_type": "execute_result"
    },
    {
     "data": {
      "image/png": "[encoded data removed]",
      "text/plain": [
       "<Figure size 240x432 with 3 Axes>"
      ]
     },
     "metadata": {
      "needs_background": "light"
     },
     "output_type": "display_data"
    }
   ],
   "source": [
    "# fig, axes = plt.subplots(figsize=[18,5], nrows=1, ncols=3, squeeze=False)\n",
    "fig, axes = plt.subplots(figsize=mnras_size(column='one', ratio=1.8), \n",
    "                         nrows=3, ncols=1, squeeze=False,\n",
    "                         constrained_layout=True)\n",
    "axes = axes.reshape(-1)\n",
    "\n",
    "# params = [[mass, feh] for mass in [1.0] for feh in [-0.4, 0., 0.4]]\n",
    "# params = [[mass, feh] for mass in [1.0] for feh in [0]]\n",
    "# mass, feh = params[iax][0], params[iax][1]\n",
    "mass, feh = 1.0, 0.\n",
    "idx = (fakestars['mass']==mass) & (fakestars['feh']==feh)\n",
    "    \n",
    "params = [{'yval':['fDnu_1.70', 'fDnu_2.30'],\n",
    "           'label':[r'$\\alpha_{\\rm MLT}\\sim\\mathcal{N}(1.7,0.1)$', r'$\\alpha_{\\rm MLT}\\sim\\mathcal{N}(2.3,0.1)$']},\n",
    "          {'yval':['fDnu_0.25', 'fDnu_0.29'],\n",
    "           'label':[r'$Y_{\\rm init}\\sim\\mathcal{N}(0.25,0.01)$', r'$Y_{\\rm init}\\sim\\mathcal{N}(0.29,0.01)$']},\n",
    "          {'yval':['fDnu', 'fDnu_t'],\n",
    "           'label':[r'$\\nu \\in \\nu_{\\rm max}\\pm5W$', r'$\\nu \\in \\nu_{\\rm max}\\pm3\\Delta\\nu$']}]\n",
    "          \n",
    "for iax, ax in enumerate(axes):\n",
    "    param = params[iax]\n",
    "    ax.errorbar(\n",
    "        fakestars.loc[idx,'numax'], \n",
    "        fakestars.loc[idx,param['yval'][0]],\n",
    "        yerr=fakestars.loc[idx,'e_'+param['yval'][0]],\n",
    "        mec='r', \n",
    "        marker='o', \n",
    "        label=param['label'][0],\n",
    "        ecolor='darkgray', mfc='none', linestyle='none', capsize=1.5\n",
    "    )\n",
    "\n",
    "    ax.errorbar(\n",
    "        fakestars.loc[idx,'numax'], \n",
    "        fakestars.loc[idx,param['yval'][1]],\n",
    "        yerr=fakestars.loc[idx,'e_'+param['yval'][1]],\n",
    "        mec='b', \n",
    "        marker='s', \n",
    "        label=param['label'][1], \n",
    "        ecolor='darkgray', mfc='none', linestyle='none', capsize=1.5\n",
    "    )\n",
    "\n",
    "    ax.legend(fontsize=fontsize)\n",
    "    ax.set_xlabel(r'$\\nu_{\\rm max}$ ($\\mu$Hz)')\n",
    "    ax.set_ylabel(r'$f_{\\Delta\\nu}$')\n",
    "    ax.set_xscale('log')\n",
    "    ax.text(\n",
    "        0.95, 0.0,\n",
    "        '$M={:0.1f}$'.format(mass)+r'$M_\\odot$\\ \\ ${\\rm [M/H]} ='+'{:0.1f}$ dex'.format(feh)+'\\n\\n'+\n",
    "        r'$\\sigma_{\\rm [M/H]}=0.1$ dex'+'\\n'+\n",
    "        r'$\\sigma_L/L=2\\%$'+'\\n'+\n",
    "        r'$\\sigma_{\\nu_{\\rm max}}/{\\nu_{\\rm max}}=2\\%$'+'\\n'+\n",
    "        r'$\\sigma_{T_{\\rm eff}}/{T_{\\rm eff}}=2.4\\%$'+'\\n',\n",
    "        ha='right', va='bottom', transform=ax.transAxes\n",
    "    )\n",
    "\n",
    "# plt.savefig('fdnu_model_physics.jpg',dpi=150)\n",
    "\n",
    "filename = 'Fig.B_fDnu_error.pdf'\n",
    "plt.savefig(filename)\n",
    "os.system(to_overleaf(filename, 'figures'))"
   ]
  },
  {
   "cell_type": "code",
   "execution_count": null,
   "id": "17f4a3b1-8e89-4541-be23-d9bd8e96c63b",
   "metadata": {},
   "outputs": [],
   "source": []
  }
 ],
 "metadata": {
  "kernelspec": {
   "display_name": "Python 3",
   "language": "python",
   "name": "python3"
  },
  "language_info": {
   "codemirror_mode": {
    "name": "ipython",
    "version": 3
   },
   "file_extension": ".py",
   "mimetype": "text/x-python",
   "name": "python",
   "nbconvert_exporter": "python",
   "pygments_lexer": "ipython3",
   "version": "3.7.9"
  }
 },
 "nbformat": 4,
 "nbformat_minor": 5
}
