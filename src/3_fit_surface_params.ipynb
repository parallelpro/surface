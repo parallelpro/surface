{
 "cells": [
  {
   "cell_type": "code",
   "execution_count": 1,
   "id": "55dc869e-eb4c-460a-bf59-95c2ae07799f",
   "metadata": {},
   "outputs": [],
   "source": [
    "%run setup.py\n",
    "\n",
    "import jax.numpy as jnp\n",
    "import jax\n",
    "import numpy as np\n",
    "from tqdm import tqdm\n",
    "import scipy.interpolate"
   ]
  },
  {
   "cell_type": "markdown",
   "id": "5b1092c6-babe-4053-b1b4-8512ecb2acdf",
   "metadata": {},
   "source": [
    "# Read in data"
   ]
  },
  {
   "cell_type": "code",
   "execution_count": 2,
   "id": "7a017a96-a790-47aa-82cd-a97917516085",
   "metadata": {},
   "outputs": [],
   "source": [
    "stars = pd.read_excel('../sample/samples.xlsx')\n",
    "\n",
    "\n",
    "# subsets = 'all'\n",
    "# subsets = 'ms'\n",
    "subsets = 'rgb'\n",
    "\n",
    "if subsets == 'all' :\n",
    "    idx = (stars['ifmodelling']==1) & (~np.isin(stars['names'], ['ngc6791', 'ngc6819', 'binary']))\n",
    "elif subsets == 'rgb' :\n",
    "    idx = np.isin(stars['stage'], ['rgb']) & (stars['ifmodelling']==1) & (~np.isin(stars['names'], ['ngc6791', 'ngc6819', 'binary']))\n",
    "else :\n",
    "    idx = np.isin(stars['stage'], ['esg', 'lsg', 'ms']) & (stars['ifmodelling']==1) & (~np.isin(stars['names'], ['ngc6791', 'ngc6819', 'binary']))\n",
    "    \n",
    "stars = stars.loc[idx,:].reset_index(drop=True)"
   ]
  },
  {
   "cell_type": "code",
   "execution_count": 3,
   "id": "081e56fb-f5c4-40f1-bffe-dce3ca8e1601",
   "metadata": {},
   "outputs": [],
   "source": [
    "atm = '_eddin'\n",
    "# atm = '_hopf'\n",
    "stardata = np.load('../data/stellar_models_for_surface_optimisation{}.npy'.format(atm), allow_pickle=True)"
   ]
  },
  {
   "cell_type": "code",
   "execution_count": 4,
   "id": "587c731f-2c05-49de-9661-3fedc1d31374",
   "metadata": {},
   "outputs": [],
   "source": [
    "Nmodels_star = np.array([stardata[istar]['Nmodels'] for istar in range(len(stardata))])\n",
    "Nmodes_star = np.array([stardata[istar]['Nmodes'] for istar in range(len(stardata))])\n",
    "kics_star = np.array([stardata[istar]['KIC'] for istar in range(len(stardata))])\n",
    "# minchi2 = np.array([np.min(stardata[istar]['chi2']) for istar in range(len(stardata))])\n",
    "# stardata = stardata[ (minchi2<20) & (Nmodels == 1000)]\n",
    "# stardata = stardata[Nmodels]\n",
    "# np.random.seed(0)\n",
    "# stardata = np.random.choice(stardata, size=500, replace=False)\n",
    "# Nstars = len(stardata)\n",
    "stardata = stardata[(Nmodes_star >= 4) & np.isin(kics_star, stars['KIC'])] #(Nmodels_star == 200) & \n",
    "Nstars = len(stardata)"
   ]
  },
  {
   "cell_type": "code",
   "execution_count": 17,
   "id": "b2d889a7-c816-40ee-9eee-654002ecb414",
   "metadata": {},
   "outputs": [],
   "source": [
    "# surface_model = 'cubic' \n",
    "surface_model = 'combined'"
   ]
  },
  {
   "cell_type": "code",
   "execution_count": 6,
   "id": "e227e76c-29d8-43d6-b935-1bd879a0267c",
   "metadata": {},
   "outputs": [
    {
     "data": {
      "text/plain": [
       "1084"
      ]
     },
     "execution_count": 6,
     "metadata": {},
     "output_type": "execute_result"
    }
   ],
   "source": [
    "Nstars"
   ]
  },
  {
   "cell_type": "code",
   "execution_count": 7,
   "id": "140b5c57-d6cf-43a3-a463-c6002c04b16a",
   "metadata": {},
   "outputs": [
    {
     "name": "stderr",
     "output_type": "stream",
     "text": [
      "100%|██████████| 1084/1084 [03:56<00:00,  4.58it/s]\n"
     ]
    }
   ],
   "source": [
    "Nmodes_max = np.max([stardata[istar]['Nmodes'] for istar in range(Nstars)])\n",
    "Nmodels_max = np.max([stardata[istar]['Nmodels'] for istar in range(Nstars)])\n",
    "chi2s_nonseis = np.zeros((Nmodels_max, Nstars))\n",
    "gravs = np.ones((Nmodels_max, Nmodes_max, Nstars)) + 1.\n",
    "Teffs = np.ones((Nmodels_max, Nmodes_max, Nstars)) + 5777.\n",
    "fehs = np.ones((Nmodels_max, Nmodes_max, Nstars)) + 0. \n",
    "numaxs = np.ones((Nmodels_max, Nmodes_max, Nstars)) + 3090.\n",
    "# f = (numax/nuac)^-1/I\n",
    "# g = (numax/nuac)^3/I\n",
    "# scale\n",
    "# D1 = dfreq(numax) = a1 * f + a3 * g\n",
    "# D2 = dfreq(scale*numax) = s^-1 * a1 * f + s^3 * a3 * g\n",
    "# scale = 1.2\n",
    "fs, gs, fs_d, gs_d  = [np.ones((Nmodels_max, Nmodes_max, Nstars)) for i in range(4)]\n",
    "obs_freq_data, obs_efreq_data, mod_freq_data, mod_inertia_data, mod_efreq_sys = [np.ones((Nmodels_max, Nmodes_max, Nstars)) for i in range(5)]\n",
    "\n",
    "Nmodes_imod_istar = np.ones((Nmodels_max, Nstars))\n",
    "weights_imod_istar = np.ones((Nmodels_max, Nstars))\n",
    "imode_imod_istar = np.zeros((Nmodels_max, Nmodes_max, Nstars))\n",
    "\n",
    "idxf = np.zeros(Nstars, dtype=bool)\n",
    "\n",
    "for istar in tqdm(range(Nstars)):\n",
    "    Nmodes = stardata[istar]['Nmodes']\n",
    "    Nmodels = stardata[istar]['Nmodels']\n",
    "    mod_freq_data[0:Nmodels,0:Nmodes,istar] = stardata[istar]['mod_freqs'][:,:]\n",
    "    mod_inertia_data[0:Nmodels,0:Nmodes,istar] = stardata[istar]['mod_inertias'][:,:]\n",
    "    chi2s_nonseis[0:Nmodels,istar] = stardata[istar]['chi2_nonseis']\n",
    "\n",
    "    for imod in range(Nmodels):\n",
    "        obs_freq_data[imod,0:Nmodes,istar] = stardata[istar]['obs_freq']\n",
    "        obs_efreq_data[imod,0:Nmodes,istar] = stardata[istar]['obs_efreq'] #np.ones(len(stardata[istar]['obs_freq'])) # \n",
    "        mod_efreq_sys[imod,0:Nmodes,istar] = stardata[istar]['mod_efreq_sys']\n",
    "            \n",
    "        fi = scipy.interpolate.interp1d(stardata[istar]['mod_freqs'][imod,:], \n",
    "              (stardata[istar]['mod_freqs'][imod,:]/stardata[istar]['numax_scaling'][imod])**3.0/stardata[istar]['mod_inertias'][imod,:], \n",
    "              kind='cubic', fill_value='extrapolate')\n",
    "        gs[imod,:,istar] = fi(stardata[istar]['numax_scaling'][imod])\n",
    "        # gs_d[imod,:,istar] = (fi(stardata[istar]['numax_scaling'][imod]+0.01) - fi(stardata[istar]['numax_scaling'][imod]-0.01) )/ (0.02)\n",
    "        \n",
    "        fi = scipy.interpolate.interp1d(stardata[istar]['mod_freqs'][imod,:], \n",
    "              (stardata[istar]['mod_freqs'][imod,:]/stardata[istar]['numax_scaling'][imod])**-1.0/stardata[istar]['mod_inertias'][imod,:], \n",
    "              kind='cubic', fill_value='extrapolate')\n",
    "        fs[imod,:,istar] = fi(stardata[istar]['numax_scaling'][imod])\n",
    "        # fs_d[imod,:,istar] = (fi(stardata[istar]['numax_scaling'][imod]+0.01) - fi(stardata[istar]['numax_scaling'][imod]-0.01) )/ (0.02)\n",
    "        \n",
    "        gravs[imod,:,istar] = stardata[istar]['g'][imod]\n",
    "        Teffs[imod,:,istar] = stardata[istar]['Teff'][imod]\n",
    "        fehs[imod,:,istar] = stardata[istar]['feh'][imod]\n",
    "        numaxs[imod,:,istar] = stardata[istar]['numax_scaling'][imod]\n",
    "    \n",
    "    Nmodes_imod_istar[:, istar] = Nmodes\n",
    "    weights_imod_istar[0:Nmodels, istar] = 1/Nmodels\n",
    "    weights_imod_istar[Nmodels:, istar] = 0\n",
    "    imode_imod_istar[:, 0:Nmodes, istar] = 1.\n",
    "    idxf[istar] = np.sum(np.isfinite(gravs[:,:,istar]))\n",
    "\n",
    "gravs, Teffs, fehs, numaxs = gravs[:,:,idxf], Teffs[:,:,idxf], fehs[:,:,idxf], numaxs[:,:,idxf]\n",
    "fs, gs = fs[:,:,idxf], gs[:,:,idxf]\n",
    "# fs_d, gs_d = fs_d[:,:,idxf], gs_d[:,:,idxf]\n",
    "obs_freq_data, obs_efreq_data = obs_freq_data[:,:,idxf], obs_efreq_data[:,:,idxf]\n",
    "mod_freq_data, mod_inertia_data = mod_freq_data[:,:,idxf], mod_inertia_data[:,:,idxf]\n",
    "chi2s_nonseis = chi2s_nonseis[:,idxf]\n",
    "\n",
    "weight_seis = 1. # 1/10.\n",
    "weight_nonseis = 1."
   ]
  },
  {
   "cell_type": "code",
   "execution_count": 8,
   "id": "c18c36b9-cd45-4b49-9d7d-8f401ff8b690",
   "metadata": {},
   "outputs": [
    {
     "data": {
      "text/plain": [
       "((1500, 9, 1084), (1500, 9, 1084))"
      ]
     },
     "execution_count": 8,
     "metadata": {},
     "output_type": "execute_result"
    }
   ],
   "source": [
    "mod_freq_data.shape, gravs.shape  # Nmodels_max, Nmodes_max, Nstars"
   ]
  },
  {
   "cell_type": "code",
   "execution_count": 9,
   "id": "f11c6d6f-d621-4f2e-ab8e-c957fef47ac6",
   "metadata": {},
   "outputs": [
    {
     "name": "stderr",
     "output_type": "stream",
     "text": [
      "WARNING:jax._src.lib.xla_bridge:No GPU/TPU found, falling back to CPU. (Set TF_CPP_MIN_LOG_LEVEL=0 and rerun for more info.)\n"
     ]
    }
   ],
   "source": [
    "# make everything jax\n",
    "mod_freq_data = jnp.asarray(mod_freq_data)\n",
    "numaxs = jnp.asarray(numaxs)\n",
    "mod_inertia_data = jnp.asarray(mod_inertia_data)\n",
    "obs_freq_data = jnp.asarray(obs_freq_data)\n",
    "\n",
    "Teffs = jnp.asarray(Teffs)\n",
    "gravs = jnp.asarray(gravs)\n",
    "fehs = jnp.asarray(fehs)\n",
    "\n",
    "gs = jnp.asarray(gs)\n",
    "fs = jnp.asarray(fs)\n",
    "\n",
    "weights_imod_istar = jnp.asarray(weights_imod_istar)\n",
    "imode_imod_istar = jnp.asarray(imode_imod_istar)"
   ]
  },
  {
   "cell_type": "markdown",
   "id": "16cb041b-5918-425e-a1c2-a6608904a1d4",
   "metadata": {},
   "source": [
    "# Optimisation"
   ]
  },
  {
   "cell_type": "code",
   "execution_count": 18,
   "id": "7f54122d-caf5-4cf5-a9e1-fdbc42c00834",
   "metadata": {},
   "outputs": [],
   "source": [
    "# fitting model to be minimized\n",
    "if surface_model == 'combined':\n",
    "    def model_linear(thetas, *s): # use numax and scale*numax, feh\n",
    "        D1 = thetas[0] * (gravs)**thetas[1] * (Teffs/5777.)**thetas[2] * (thetas[3]*fehs + 1) # surf corr at numax\n",
    "        D2 = thetas[4] * (gravs)**thetas[5] * (Teffs/5777.)**thetas[6] * (thetas[7]*fehs + 1) # surf corr at scale*numax\n",
    "        scale = 1.1\n",
    "\n",
    "        surface_a3 = (scale**-1 * D1 - D2)/ ((scale**-1 - scale**3) *gs)\n",
    "        surface_a1 = (scale**3 * D1 - D2)/ ((scale**3 - scale**-1) *fs)\n",
    "\n",
    "        dfreq = (surface_a3 * (mod_freq_data/numaxs)**3.0 + surface_a1 * (mod_freq_data/numaxs)**-1.0)/mod_inertia_data\n",
    "        mod_freq_corr_data = mod_freq_data + dfreq \n",
    "\n",
    "        chi2s_seis = jnp.mean((mod_freq_corr_data-obs_freq_data)**2.0/(obs_efreq_data**2. + mod_efreq_sys**2.), \n",
    "                              axis=1,\n",
    "                              where=imode_imod_istar==1.)\n",
    "\n",
    "        chi2 = chi2s_seis*weight_seis + chi2s_nonseis*weight_nonseis\n",
    "        logP_star = jax.scipy.special.logsumexp(-chi2/2, axis=0, b=weights_imod_istar)\n",
    "\n",
    "        return -jnp.nansum(logP_star)\n",
    "    \n",
    "else:\n",
    "    def model_linear(thetas, *s): # use numax and scale*numax, feh\n",
    "        D1 = thetas[0] * (gravs)**thetas[1] * (Teffs/5777.)**thetas[2] * (thetas[3]*fehs + 1) # surf corr at numax\n",
    "        surface_a3 = D1/gs\n",
    "\n",
    "        dfreq = (surface_a3*(mod_freq_data/numaxs)**3.0)/mod_inertia_data\n",
    "        mod_freq_corr_data = mod_freq_data + dfreq \n",
    "\n",
    "        chi2s_seis = jnp.mean((mod_freq_corr_data-obs_freq_data)**2.0/(obs_efreq_data**2. + mod_efreq_sys**2.), \n",
    "                              axis=1,\n",
    "                              where=imode_imod_istar==1.)\n",
    "\n",
    "        chi2 = chi2s_seis*weight_seis + chi2s_nonseis*weight_nonseis\n",
    "        logP_star = jax.scipy.special.logsumexp(-chi2/2, axis=0, b=weights_imod_istar)\n",
    "\n",
    "        return -jnp.nansum(logP_star)\n",
    "    \n",
    "    \n",
    "jit_model_linear = jax.jit(model_linear)"
   ]
  },
  {
   "cell_type": "code",
   "execution_count": 19,
   "id": "ba9928b9-738a-466e-91f7-4f7b5b4fb5bb",
   "metadata": {},
   "outputs": [
    {
     "name": "stdout",
     "output_type": "stream",
     "text": [
      "21918.754\n",
      "[ 23.833319  128.26822     1.1044943  19.54561    -3.758421   50.535217\n",
      "  18.362106  -18.811674 ]\n"
     ]
    }
   ],
   "source": [
    "# combined\n",
    "# paramsInit = jnp.array([-4.22, 1.0, -8.44, -0.41, #[-4.22, 0.99, -6.44, -0.41]\n",
    "#                   -5.22, 1.0, -6.44, -0.41])\n",
    "# paramsInit = jnp.array([-4.7303185 , 0.44954386, 2.2743673 , 0.66483986, -6.012368 , 0.50741553, 1.5869876 , 0.31649277])\n",
    "\n",
    "# RGB:\n",
    "# [-7.9282274 ,  1.2846141 , -6.3388844 , -0.01533486,\n",
    "#  -8.494455  ,  1.1319928 , -5.3336873 , -0.30835932]\n",
    "# [0.41842967, 0.02130897, 0.3689297 , 0.03597676, \n",
    "# 0.4364696 , 0.0170249 , 0.3102947 , 0.03083902]\n",
    "    \n",
    "# cubic    \n",
    "paramsInit = jnp.array([-3.7443726, 1.0866573, -8.742777 , -1.3795667, -4.9891973, 1.0541984, -8.15369 , -1.3154854])\n",
    "# jnp.array([-4.181521 , 0.95523196, -5.6379514 , -1.1099834 ])\n",
    "\n",
    "# test if works\n",
    "print(jit_model_linear(paramsInit))\n",
    "\n",
    "# test if grad works\n",
    "print(jax.grad(jit_model_linear)(paramsInit))"
   ]
  },
  {
   "cell_type": "code",
   "execution_count": 12,
   "id": "7ad9fe67-39bf-4b23-81f9-4b274e79bc0c",
   "metadata": {},
   "outputs": [
    {
     "name": "stdout",
     "output_type": "stream",
     "text": [
      "step 0, loss: 1750.8206787109375\n",
      "step 200, loss: 1702.786376953125\n",
      "step 400, loss: 1695.571044921875\n",
      "step 600, loss: 1695.3759765625\n",
      "step 800, loss: 1688.6497802734375\n",
      "step 1000, loss: 1688.31298828125\n",
      "step 1200, loss: 1688.312744140625\n",
      "step 1400, loss: 1688.3126220703125\n",
      "step 1600, loss: 1688.3126220703125\n",
      "step 1800, loss: 1688.3126220703125\n",
      "step 2000, loss: 1688.3135986328125\n",
      "step 2200, loss: 1688.312744140625\n",
      "step 2400, loss: 1688.3128662109375\n",
      "step 2600, loss: 1688.312744140625\n",
      "step 2800, loss: 1688.312744140625\n",
      "step 3000, loss: 1688.3126220703125\n",
      "step 3200, loss: 1688.3126220703125\n",
      "step 3400, loss: 1688.312744140625\n",
      "step 3600, loss: 1688.312744140625\n",
      "step 3800, loss: 1688.353515625\n",
      "step 4000, loss: 1688.312744140625\n",
      "step 4200, loss: 1688.3153076171875\n",
      "step 4400, loss: 1688.312744140625\n",
      "step 4600, loss: 1688.312744140625\n",
      "step 4800, loss: 1688.312744140625\n"
     ]
    }
   ],
   "source": [
    "import optax\n",
    "\n",
    "def fit(params, optimizer):\n",
    "    opt_state = optimizer.init(params)\n",
    "\n",
    "    @jax.jit\n",
    "    def step(params, opt_state):\n",
    "        loss_value, grads = jax.value_and_grad(model_linear)(params)\n",
    "        updates, opt_state = optimizer.update(grads, opt_state, params)\n",
    "        params = optax.apply_updates(params, updates)\n",
    "        return params, opt_state, loss_value\n",
    "\n",
    "    for i  in range(5000):\n",
    "        params, opt_state, loss_value = step(params, opt_state)\n",
    "        if i % 200 == 0:\n",
    "            print(f'step {i}, loss: {loss_value}')\n",
    "\n",
    "    return params\n",
    "\n",
    "# Finally, we can fit our parametrized function using the Adam optimizer\n",
    "# provided by optax.\n",
    "optimizer = optax.adam(learning_rate=2e-2)\n",
    "params = fit(paramsInit, optimizer)"
   ]
  },
  {
   "cell_type": "code",
   "execution_count": 20,
   "id": "f9ad94f8-f091-4083-b1a4-e3df5cf09941",
   "metadata": {},
   "outputs": [
    {
     "data": {
      "text/plain": [
       "DeviceArray([-3.7443726,  1.0866573, -8.742777 , -1.3795667, -4.9891973,\n",
       "              1.0541984, -8.15369  , -1.3154854], dtype=float32)"
      ]
     },
     "execution_count": 20,
     "metadata": {},
     "output_type": "execute_result"
    }
   ],
   "source": [
    "# estimated values\n",
    "# params = jnp.array([-4.181521 , 0.95523196, -5.6379514 , -1.1099834 ])\n",
    "params = jnp.array([-3.7443726, 1.0866573, -8.742777 , -1.3795667, -4.9891973, 1.0541984, -8.15369 , -1.3154854])\n",
    "params"
   ]
  },
  {
   "cell_type": "code",
   "execution_count": 14,
   "id": "5b7139b6-854e-4436-a65a-ede8f1768b9f",
   "metadata": {},
   "outputs": [
    {
     "data": {
      "text/plain": [
       "DeviceArray([0.09232494, 0.00926697, 0.17271471, 0.02324787], dtype=float32)"
      ]
     },
     "execution_count": 14,
     "metadata": {},
     "output_type": "execute_result"
    }
   ],
   "source": [
    "# approx uncertainties from the Hessian matrix\n",
    "err = jnp.diag(jnp.abs(jnp.linalg.inv(jax.hessian(jit_model_linear)(params))))**0.5\n",
    "err"
   ]
  },
  {
   "cell_type": "code",
   "execution_count": 21,
   "id": "56b3de89-5510-494d-b2f1-a3d07fefba10",
   "metadata": {},
   "outputs": [
    {
     "data": {
      "text/plain": [
       "DeviceArray([[ 1.        , -0.34591866, -0.42900035, -0.21273926,\n",
       "               0.9241423 , -0.2604225 , -0.45954454, -0.28338483],\n",
       "             [-0.3458591 ,  1.0000001 , -0.692837  , -0.44314474,\n",
       "              -0.34180248,  0.8650529 , -0.5254658 , -0.28083682],\n",
       "             [-0.42906293, -0.6927884 ,  1.0000001 ,  0.56699   ,\n",
       "              -0.37955612, -0.63358474,  0.8716615 ,  0.47360078],\n",
       "             [-0.21277882, -0.44312456,  0.56700087,  1.        ,\n",
       "              -0.21708858, -0.3642659 ,  0.47002703,  0.84788865],\n",
       "             [ 0.9241334 , -0.34185594, -0.3794946 , -0.21705072,\n",
       "               1.        , -0.3426243 , -0.44335365, -0.29162878],\n",
       "             [-0.2603325 ,  0.865015  , -0.63361853, -0.36427385,\n",
       "              -0.34254092,  0.9999999 , -0.68032914, -0.39284268],\n",
       "             [-0.45962855, -0.5253842 ,  0.8716462 ,  0.47000483,\n",
       "              -0.44343835, -0.68026066,  0.9999999 ,  0.5799363 ],\n",
       "             [-0.2834451 , -0.28078708,  0.47359845,  0.84787863,\n",
       "              -0.29168752, -0.3928034 ,  0.5799444 ,  0.99999994]],            dtype=float32)"
      ]
     },
     "execution_count": 21,
     "metadata": {},
     "output_type": "execute_result"
    }
   ],
   "source": [
    "cov = jnp.linalg.inv(jax.hessian(jit_model_linear)(params))\n",
    "diag = jnp.sqrt(jnp.diag(jnp.diag(cov)))\n",
    "gaid = jnp.linalg.inv(diag)\n",
    "corr = gaid @ cov @ gaid\n",
    "corr"
   ]
  },
  {
   "cell_type": "code",
   "execution_count": 32,
   "id": "572a2b35-c7b4-49be-8b1f-cb689f313d17",
   "metadata": {},
   "outputs": [
    {
     "data": {
      "image/png": "[encoded data removed]",
      "text/plain": [
       "<Figure size 432x288 with 2 Axes>"
      ]
     },
     "metadata": {
      "needs_background": "light"
     },
     "output_type": "display_data"
    }
   ],
   "source": [
    "p = ['a', 'b', 'c', 'd', \"a'\", \"b'\", \"c'\", \"d'\"]\n",
    "\n",
    "norm=matplotlib.colors.Normalize(vmin=-1, vmax=1)\n",
    "\n",
    "plt.imshow(corr, cmap='seismic', norm=norm)\n",
    "plt.xticks(range(0,8), p)\n",
    "plt.yticks(range(0,8), p)\n",
    "for i in range(8):\n",
    "    for j in range(8):\n",
    "        plt.text(i, j, '{:.1f}'.format(corr[i,j]), ha='center', va='center', color='white')\n",
    "plt.colorbar()\n",
    "plt.savefig('corr.png')"
   ]
  },
  {
   "cell_type": "code",
   "execution_count": 23,
   "id": "164ca148-c2e6-419a-b22a-fe777cf8dbfc",
   "metadata": {},
   "outputs": [
    {
     "name": "stdout",
     "output_type": "stream",
     "text": [
      "corr for b and c: -0.69\n",
      "corr for b and d: -0.44\n",
      "corr for c and d: 0.57\n",
      "corr for a and a': -0.35\n",
      "corr for b and b': 0.87\n",
      "corr for c and c': 0.87\n",
      "corr for d and d': 0.85\n"
     ]
    }
   ],
   "source": [
    "print('corr for b and c: {:.2f}'.format(corr[1,2]))\n",
    "print('corr for b and d: {:.2f}'.format(corr[1,3]))\n",
    "print('corr for c and d: {:.2f}'.format(corr[2,3]))\n",
    "\n",
    "print(\"corr for a and a': {:.2f}\".format(corr[0,1]))\n",
    "print(\"corr for b and b': {:.2f}\".format(corr[1,5]))\n",
    "print(\"corr for c and c': {:.2f}\".format(corr[2,6]))\n",
    "print(\"corr for d and d': {:.2f}\".format(corr[3,7]))"
   ]
  },
  {
   "cell_type": "code",
   "execution_count": null,
   "id": "1d7abf89-c2c4-4a06-b66d-299b03f8cfdc",
   "metadata": {},
   "outputs": [],
   "source": []
  },
  {
   "cell_type": "markdown",
   "id": "72852199-459a-447c-916a-99e4b9158bad",
   "metadata": {},
   "source": [
    "# Results for the combined surface correction model\n",
    "## eddin atmosphere\n",
    "### all sample\n",
    "DeviceArray([-3.7443726,  1.0866573, -8.742777 , -1.3795667, \n",
    "             -4.9891973,  1.0541984, -8.15369  , -1.3154854], dtype=float32)\n",
    "\n",
    "DeviceArray([0.13330452, 0.01283954, 0.22996646, 0.02094826, \n",
    "             0.13725656, 0.00977644, 0.18469958, 0.01802539], dtype=float32)\n",
    "             \n",
    "### RGB sample\n",
    "DeviceArray([-3.8369734,  1.0976515, -8.83042  , -1.3841832, \n",
    "             -5.0435867,  1.0658274, -8.325036 , -1.3250351], dtype=float32)\n",
    "             \n",
    "DeviceArray([0.16418463, 0.01225858, 0.24061048, 0.02119218, \n",
    "             0.16585062, 0.00967092, 0.1921673 , 0.01829769], dtype=float32)\n",
    "\n",
    "### MS+SG sample\n",
    "DeviceArray([-3.715097  ,  0.6096728 , -1.6813153 , -0.08168457,\n",
    "             -5.550722  ,  0.6479634 , -1.5653569 , -0.64631474],            dtype=float32)\n",
    "   \n",
    "DeviceArray([0.40209517, 0.0793009 , 0.82480085, 0.1394154 , \n",
    "             0.42107266, 0.05699116, 0.6225904 , 0.11118653], dtype=float32)\n",
    "\n",
    "## hopf atmosphere\n",
    "### all sample\n",
    "DeviceArray([-4.730426  ,  0.44938794,  2.2742143 ,  0.6649345 ,\n",
    "             -6.012242  ,  0.50756603,  1.5871831 ,  0.31629565],            dtype=float32)\n",
    "             \n",
    "DeviceArray([0.40055206, 0.05865041, 0.43102598, 0.11203981, 0.3800276 ,\n",
    "             0.04579416, 0.35854703, 0.09796833], dtype=float32)\n",
    "\n",
    "### RGB sample\n",
    "DeviceArray([ -1.4532081 ,   0.87606186, -10.1614065 ,  -0.31404772,\n",
    "              -2.310592  ,   0.89685166,  -9.446557  ,  -0.502116  ],            dtype=float32)\n",
    "              \n",
    "DeviceArray([0.03458241, 0.01137423, 0.19651969, 0.02047572, 0.05806956,\n",
    "             0.00949883, 0.17697607, 0.01874554], dtype=float32)\n",
    "\n",
    "### MS+SG sample\n",
    "DeviceArray([-4.730426  ,  0.44938794,  2.2742143 ,  0.6649345 ,\n",
    "             -6.012242  ,  0.50756603,  1.5871831 ,  0.31629565],            dtype=float32)\n",
    "             \n",
    "DeviceArray([0.40055206, 0.05865041, 0.43102598, 0.11203981, 0.3800276 ,\n",
    "             0.04579416, 0.35854703, 0.09796833], dtype=float32)\n",
    "             "
   ]
  },
  {
   "cell_type": "markdown",
   "id": "8d1620a0-4aa9-40dd-96b1-33ef9f8fb1ef",
   "metadata": {},
   "source": [
    "# Results for the cubic surface correction model\n",
    "## eddin atmosphere\n",
    "### all sample\n",
    "DeviceArray([-4.1485624,  0.9450712, -5.479969 , -1.0995963], dtype=float32)\n",
    "             \n",
    "DeviceArray([0.13009433, 0.01215709, 0.23190716, 0.02584277], dtype=float32)\n",
    "             \n",
    "### RGB sample\n",
    "DeviceArray([-4.181521  ,  0.95523196, -5.6379514 , -1.1099834 ], dtype=float32)\n",
    "\n",
    "DeviceArray([0.13015431, 0.01164923, 0.22260946, 0.02455296], dtype=float32)\n",
    "\n",
    "### MS+SG sample\n",
    "DeviceArray([-4.186023  ,  0.7813644 , -5.7118735 , -0.07299965], dtype=float32)\n",
    "\n",
    "DeviceArray([0.3921687 , 0.06778456, 0.5822848 , 0.13034512], dtype=float32)\n",
    "\n",
    "## hopf atmosphere\n",
    "### all sample\n",
    "DeviceArray([-3.064004  ,  0.96079797, -7.144836  , -0.8798956 ], dtype=float32)\n",
    "\n",
    "DeviceArray([0.09832186, 0.00993515, 0.20343256, 0.02072822], dtype=float32)\n",
    "\n",
    "### RGB sample\n",
    "\n",
    "DeviceArray([-2.9030428 ,  0.97364545, -7.6786346 , -0.91186076], dtype=float32)\n",
    "\n",
    "\n",
    "DeviceArray([0.09598602, 0.0110919 , 0.22213084, 0.02060322], dtype=float32)\n",
    "\n",
    "### MS+SG sample\n",
    "\n",
    "DeviceArray([-4.245544  ,  0.5040414 , -0.9813989 , -0.48889992], dtype=float32)\n",
    "\n",
    "DeviceArray([0.27737832, 0.0578146 , 0.48618144, 0.08239575], dtype=float32)"
   ]
  },
  {
   "cell_type": "code",
   "execution_count": null,
   "id": "6d9944f6-7ad8-4453-9b07-bdca00bd8dfa",
   "metadata": {},
   "outputs": [],
   "source": []
  }
 ],
 "metadata": {
  "kernelspec": {
   "display_name": "Python 3",
   "language": "python",
   "name": "python3"
  },
  "language_info": {
   "codemirror_mode": {
    "name": "ipython",
    "version": 3
   },
   "file_extension": ".py",
   "mimetype": "text/x-python",
   "name": "python",
   "nbconvert_exporter": "python",
   "pygments_lexer": "ipython3",
   "version": "3.7.9"
  },
  "toc-autonumbering": true
 },
 "nbformat": 4,
 "nbformat_minor": 5
}
