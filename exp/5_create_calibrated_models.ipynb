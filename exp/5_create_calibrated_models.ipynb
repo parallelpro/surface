{
 "cells": [
  {
   "cell_type": "code",
   "execution_count": 1,
   "id": "bd522cc5-45ee-419e-b5d4-671094a24830",
   "metadata": {},
   "outputs": [],
   "source": [
    "%run setup.py"
   ]
  },
  {
   "cell_type": "markdown",
   "id": "623c4ce7-bd11-4f7b-80da-9958aebc8887",
   "metadata": {},
   "source": [
    "# Condense the model grid into numpy binary objects\n",
    "\n",
    "## Inverse-cubic, all sample solution."
   ]
  },
  {
   "cell_type": "code",
   "execution_count": 5,
   "id": "5aa2b3fa-7b6f-472a-8eae-e7d7abfefa6e",
   "metadata": {},
   "outputs": [],
   "source": [
    "grids = pd.read_csv('../hpc/coarse_v2/template/coarse_grid_input_params_v2.txt') "
   ]
  },
  {
   "cell_type": "code",
   "execution_count": 6,
   "id": "bba9f9c0-7647-43b7-b8a6-4f4c35e4155e",
   "metadata": {},
   "outputs": [
    {
     "name": "stdout",
     "output_type": "stream",
     "text": [
      "slice(0, 999, 1)\n"
     ]
    },
    {
     "data": {
      "application/vnd.jupyter.widget-view+json": {
       "model_id": "33732814685f452e8126552996610bb2",
       "version_major": 2,
       "version_minor": 0
      },
      "text/plain": [
       "  0%|          | 0/999 [00:00<?, ?it/s]"
      ]
     },
     "metadata": {},
     "output_type": "display_data"
    },
    {
     "name": "stdout",
     "output_type": "stream",
     "text": [
      "slice(1000, 1999, 1)\n"
     ]
    },
    {
     "data": {
      "application/vnd.jupyter.widget-view+json": {
       "model_id": "32fdd74fd0e64c5f841a298b9cb64d13",
       "version_major": 2,
       "version_minor": 0
      },
      "text/plain": [
       "  0%|          | 0/999 [00:00<?, ?it/s]"
      ]
     },
     "metadata": {},
     "output_type": "display_data"
    },
    {
     "name": "stdout",
     "output_type": "stream",
     "text": [
      "slice(2000, 2999, 1)\n"
     ]
    },
    {
     "data": {
      "application/vnd.jupyter.widget-view+json": {
       "model_id": "2dd2866b6a0e4c769bc46e32c832cffb",
       "version_major": 2,
       "version_minor": 0
      },
      "text/plain": [
       "  0%|          | 0/999 [00:00<?, ?it/s]"
      ]
     },
     "metadata": {},
     "output_type": "display_data"
    },
    {
     "name": "stdout",
     "output_type": "stream",
     "text": [
      "slice(3000, 3999, 1)\n"
     ]
    },
    {
     "data": {
      "application/vnd.jupyter.widget-view+json": {
       "model_id": "97cbec8ecd824db3a258c3625ba9199e",
       "version_major": 2,
       "version_minor": 0
      },
      "text/plain": [
       "  0%|          | 0/999 [00:00<?, ?it/s]"
      ]
     },
     "metadata": {},
     "output_type": "display_data"
    },
    {
     "name": "stdout",
     "output_type": "stream",
     "text": [
      "slice(4000, 4999, 1)\n"
     ]
    },
    {
     "data": {
      "application/vnd.jupyter.widget-view+json": {
       "model_id": "354bd9f661d24152baf3e91ad9bc3a01",
       "version_major": 2,
       "version_minor": 0
      },
      "text/plain": [
       "  0%|          | 0/999 [00:00<?, ?it/s]"
      ]
     },
     "metadata": {},
     "output_type": "display_data"
    },
    {
     "name": "stdout",
     "output_type": "stream",
     "text": [
      "slice(5000, 5999, 1)\n"
     ]
    },
    {
     "data": {
      "application/vnd.jupyter.widget-view+json": {
       "model_id": "a12f152e958e4d988f3580a3b616b524",
       "version_major": 2,
       "version_minor": 0
      },
      "text/plain": [
       "  0%|          | 0/999 [00:00<?, ?it/s]"
      ]
     },
     "metadata": {},
     "output_type": "display_data"
    },
    {
     "name": "stdout",
     "output_type": "stream",
     "text": [
      "slice(6000, 6999, 1)\n"
     ]
    },
    {
     "data": {
      "application/vnd.jupyter.widget-view+json": {
       "model_id": "707cbc50d545474cafb8bb4f9251d406",
       "version_major": 2,
       "version_minor": 0
      },
      "text/plain": [
       "  0%|          | 0/999 [00:00<?, ?it/s]"
      ]
     },
     "metadata": {},
     "output_type": "display_data"
    },
    {
     "name": "stdout",
     "output_type": "stream",
     "text": [
      "slice(7000, 7999, 1)\n"
     ]
    },
    {
     "data": {
      "application/vnd.jupyter.widget-view+json": {
       "model_id": "c9e795a87dec4487942495953a848f54",
       "version_major": 2,
       "version_minor": 0
      },
      "text/plain": [
       "  0%|          | 0/999 [00:00<?, ?it/s]"
      ]
     },
     "metadata": {},
     "output_type": "display_data"
    },
    {
     "name": "stdout",
     "output_type": "stream",
     "text": [
      "slice(8000, 8192, 1)\n"
     ]
    },
    {
     "data": {
      "application/vnd.jupyter.widget-view+json": {
       "model_id": "11ac2b3f2f734731b9c2582d7f06edf8",
       "version_major": 2,
       "version_minor": 0
      },
      "text/plain": [
       "  0%|          | 0/192 [00:00<?, ?it/s]"
      ]
     },
     "metadata": {},
     "output_type": "display_data"
    }
   ],
   "source": [
    "from tqdm import tqdm\n",
    "import astropy.table\n",
    "from grid import get_model_Dnu\n",
    "import scipy.interpolate\n",
    "\n",
    "for i in range(0, 9): #\n",
    "\n",
    "    start = i*1000\n",
    "    end = (i+1)*1000-1 if (i+1)*1000-1 < (2**13) else 2**13\n",
    "    sl = slice(start, end, 1)\n",
    "    print(sl)\n",
    "    \n",
    "    \n",
    "    def multi(inputs):\n",
    "        it, track = inputs\n",
    "        filepath = '../hpc/coarse_v2/pre_rgb_tip/complete_grid/index{:06.0f}.history.h5'.format(track['index'])\n",
    "        if not os.path.exists(filepath): \n",
    "            return None\n",
    "\n",
    "        cols = ['index', 'profile_number', 'flag_seismo', \n",
    "                'Yinit', 'Xinit', 'Zinit', 'fov_core', 'fov_shell', 'amlt', \n",
    "                'star_age', 'star_mass', 'luminosity', 'radius', 'Teff', \n",
    "                'log_g', 'FeH', 'delta_nu_scaling', 'numax_scaling', 'acoustic_cutoff']\n",
    "\n",
    "        f = h5py.File(filepath, 'r')\n",
    "        # print(filepath)\n",
    "        cols = ['index', 'profile_number', 'flag_seismo', \n",
    "                'star_age', 'star_mass', 'luminosity', 'radius', 'Teff', 'delta_nu_scaling', 'numax_scaling', 'acoustic_cutoff', 'delta_Pg', 'log_g',\n",
    "                'Yinit', 'Xinit', 'Zinit', 'center_h1', 'fov_core', 'fov_shell', 'amlt', 'FeH', 'log_LHe', 'log_Lnuc']\n",
    "\n",
    "\n",
    "        atrack = Table([f[col][:] for col in cols], names=cols)\n",
    "        idx = (atrack['flag_seismo']==1) & (atrack['numax_scaling']>15) & ((atrack['log_LHe']-atrack['log_Lnuc'])<-3)\n",
    "\n",
    "        atrack = atrack[idx]\n",
    "        atrack['density'] = atrack['star_mass']**0.5/atrack['radius']**-1.5\n",
    "        atrack['numax'] = atrack['numax_scaling']\n",
    "        atrack['Dnu'] = atrack['delta_nu_scaling']\n",
    "\n",
    "        atrack['[M/H]'] = atrack['FeH']\n",
    "        atrack['mode_l'] = np.zeros(len(atrack), dtype=object)\n",
    "        atrack['mode_n'] = np.zeros(len(atrack), dtype=object)\n",
    "        atrack['mode_freq_o'] = np.zeros(len(atrack), dtype=object)\n",
    "        atrack['mode_freq'] = np.zeros(len(atrack), dtype=object)\n",
    "        atrack['mode_inertia'] = np.zeros(len(atrack), dtype=object)\n",
    "        \n",
    "        # # # replace the acoustic_cutoff from mesa with numax_scaling\n",
    "        atrack['acoustic_cutoff'] = atrack['numax_scaling']\n",
    "        atrack['Dnu_freq_o'] = np.zeros(len(atrack))\n",
    "        atrack['eps_o'] = np.zeros(len(atrack))\n",
    "        atrack['surf_corr_at_numax'] = np.zeros(len(atrack))\n",
    "        # #\n",
    "        for i in range(len(atrack)):\n",
    "            # historyIndex = atrack[i]['index']\n",
    "            profileIndex = atrack[i]['profile_number']\n",
    "\n",
    "            numax_scaling = atrack[i]['numax_scaling']\n",
    "            g = atrack[i]['star_mass']/atrack[i]['radius']**2.0\n",
    "            Teff = atrack[i]['Teff']\n",
    "            feh = atrack[i]['FeH']\n",
    "            \n",
    "            atrack['mode_l'][i] = f['profile{:0.0f}/{:s}'.format(profileIndex, 'l')][:][0]\n",
    "            atrack['mode_n'][i] = f['profile{:0.0f}/{:s}'.format(profileIndex, 'n_pg')][:][0]\n",
    "            mode_freq = f['profile{:0.0f}/{:s}'.format(profileIndex, 'freq')][:][0]\n",
    "            mode_inertia = f['profile{:0.0f}/{:s}'.format(profileIndex, 'E_norm')][:][0]\n",
    "            \n",
    "            atrack['Dnu_freq_o'][i], atrack['eps_o'][i] = get_model_Dnu(mode_freq, atrack['mode_l'][i], \\\n",
    "                                                    atrack['delta_nu_scaling'][i], atrack['numax_scaling'][i], atrack['mode_n'][i])\n",
    "            \n",
    "            thetas = np.array([-3.7443726, 1.0866573, -8.742777 , -1.3795667, \n",
    "                               -4.9891973, 1.0541984, -8.15369 , -1.3154854])\n",
    "                \n",
    "            D1 = thetas[0] * (g)**thetas[1] * (Teff/5777.)**thetas[2] * (thetas[3]*feh + 1) # surf corr at numax\n",
    "            D2 = thetas[4] * (g)**thetas[5] * (Teff/5777.)**thetas[6] * (thetas[7]*feh + 1) # surf corr at scale*numax\n",
    "            scale = 1.1\n",
    "\n",
    "            fi = scipy.interpolate.interp1d(mode_freq, (mode_freq/numax_scaling)**3.0/mode_inertia, kind='cubic', fill_value='extrapolate')\n",
    "            gs = fi(numax_scaling)\n",
    "\n",
    "            fi = scipy.interpolate.interp1d(mode_freq, (mode_freq/numax_scaling)**-1.0/mode_inertia, kind='cubic', fill_value='extrapolate')\n",
    "            fs = fi(numax_scaling)\n",
    "\n",
    "            surface_a3 = (scale**-1 * D1 - D2)/ ((scale**-1 - scale**3) *gs)\n",
    "            surface_a1 = (scale**3 * D1 - D2)/ ((scale**3 - scale**-1) *fs)\n",
    "            dfreq = (surface_a3 *(mode_freq/numax_scaling)**3.0+surface_a1 *(mode_freq/numax_scaling)**-1.0)/mode_inertia\n",
    "            \n",
    "            atrack['mode_freq_o'][i] = mode_freq\n",
    "            atrack['mode_freq'][i] = mode_freq + dfreq\n",
    "            atrack['mode_inertia'][i] = mode_inertia\n",
    "            atrack['surf_corr_at_numax'][i] = D1\n",
    "            \n",
    "        return atrack\n",
    "    \n",
    "\n",
    "    tracks = process_map(multi, grids.loc[sl,:].iterrows(), total=end-start, max_workers=14)\n",
    "    data = astropy.table.vstack([track for track in tracks if track is not None])\n",
    "    np.save('models/calibrated/tracks_{:0.0f}_{:0.0f}'.format(sl.start, sl.stop), data)\n"
   ]
  },
  {
   "cell_type": "markdown",
   "id": "a4f9e01c-042c-42f2-a883-86b3b2fe55f6",
   "metadata": {},
   "source": [
    "## Inverse-cubic, sep sample solution."
   ]
  },
  {
   "cell_type": "code",
   "execution_count": 7,
   "id": "046f2323-dd22-4b02-900d-abefb1eca00a",
   "metadata": {},
   "outputs": [
    {
     "name": "stdout",
     "output_type": "stream",
     "text": [
      "slice(0, 999, 1)\n"
     ]
    },
    {
     "data": {
      "application/vnd.jupyter.widget-view+json": {
       "model_id": "1640068111db42a3bb364b20eece42e4",
       "version_major": 2,
       "version_minor": 0
      },
      "text/plain": [
       "  0%|          | 0/999 [00:00<?, ?it/s]"
      ]
     },
     "metadata": {},
     "output_type": "display_data"
    },
    {
     "name": "stdout",
     "output_type": "stream",
     "text": [
      "slice(1000, 1999, 1)\n"
     ]
    },
    {
     "data": {
      "application/vnd.jupyter.widget-view+json": {
       "model_id": "dba466786102419f8e78aeec2cf03c89",
       "version_major": 2,
       "version_minor": 0
      },
      "text/plain": [
       "  0%|          | 0/999 [00:00<?, ?it/s]"
      ]
     },
     "metadata": {},
     "output_type": "display_data"
    },
    {
     "name": "stdout",
     "output_type": "stream",
     "text": [
      "slice(2000, 2999, 1)\n"
     ]
    },
    {
     "data": {
      "application/vnd.jupyter.widget-view+json": {
       "model_id": "2b7a8d251fb24943a84a86c93f3d17c0",
       "version_major": 2,
       "version_minor": 0
      },
      "text/plain": [
       "  0%|          | 0/999 [00:00<?, ?it/s]"
      ]
     },
     "metadata": {},
     "output_type": "display_data"
    },
    {
     "name": "stdout",
     "output_type": "stream",
     "text": [
      "slice(3000, 3999, 1)\n"
     ]
    },
    {
     "data": {
      "application/vnd.jupyter.widget-view+json": {
       "model_id": "bab4a384c92a4af3a61df97466177030",
       "version_major": 2,
       "version_minor": 0
      },
      "text/plain": [
       "  0%|          | 0/999 [00:00<?, ?it/s]"
      ]
     },
     "metadata": {},
     "output_type": "display_data"
    },
    {
     "name": "stdout",
     "output_type": "stream",
     "text": [
      "slice(4000, 4999, 1)\n"
     ]
    },
    {
     "data": {
      "application/vnd.jupyter.widget-view+json": {
       "model_id": "19fc5da1f40b499b922ca28aa98b7b94",
       "version_major": 2,
       "version_minor": 0
      },
      "text/plain": [
       "  0%|          | 0/999 [00:00<?, ?it/s]"
      ]
     },
     "metadata": {},
     "output_type": "display_data"
    },
    {
     "name": "stdout",
     "output_type": "stream",
     "text": [
      "slice(5000, 5999, 1)\n"
     ]
    },
    {
     "data": {
      "application/vnd.jupyter.widget-view+json": {
       "model_id": "b759254052324c87a61a25307a311ba0",
       "version_major": 2,
       "version_minor": 0
      },
      "text/plain": [
       "  0%|          | 0/999 [00:00<?, ?it/s]"
      ]
     },
     "metadata": {},
     "output_type": "display_data"
    },
    {
     "name": "stdout",
     "output_type": "stream",
     "text": [
      "slice(6000, 6999, 1)\n"
     ]
    },
    {
     "data": {
      "application/vnd.jupyter.widget-view+json": {
       "model_id": "95500e9676fb4de6872496fbb0de7578",
       "version_major": 2,
       "version_minor": 0
      },
      "text/plain": [
       "  0%|          | 0/999 [00:00<?, ?it/s]"
      ]
     },
     "metadata": {},
     "output_type": "display_data"
    },
    {
     "name": "stdout",
     "output_type": "stream",
     "text": [
      "slice(8000, 8192, 1)\n"
     ]
    },
    {
     "data": {
      "application/vnd.jupyter.widget-view+json": {
       "model_id": "4c12c5e47acb43a78d54a6e95af114b8",
       "version_major": 2,
       "version_minor": 0
      },
      "text/plain": [
       "  0%|          | 0/192 [00:00<?, ?it/s]"
      ]
     },
     "metadata": {},
     "output_type": "display_data"
    }
   ],
   "source": [
    "from tqdm import tqdm\n",
    "import astropy.table\n",
    "from grid import get_model_Dnu\n",
    "import scipy.interpolate\n",
    "\n",
    "for i in range(0, 9): #\n",
    "\n",
    "    start = i*1000\n",
    "    end = (i+1)*1000-1 if (i+1)*1000-1 < (2**13) else 2**13\n",
    "    sl = slice(start, end, 1)\n",
    "    print(sl)\n",
    "    \n",
    "    \n",
    "    def multi(inputs):\n",
    "        it, track = inputs\n",
    "        filepath = '../hpc/coarse_v2/pre_rgb_tip/complete_grid/index{:06.0f}.history.h5'.format(track['index'])\n",
    "        if not os.path.exists(filepath): \n",
    "            return None\n",
    "\n",
    "        cols = ['index', 'profile_number', 'flag_seismo', \n",
    "                'Yinit', 'Xinit', 'Zinit', 'fov_core', 'fov_shell', 'amlt', \n",
    "                'star_age', 'star_mass', 'luminosity', 'radius', 'Teff', \n",
    "                'log_g', 'FeH', 'delta_nu_scaling', 'numax_scaling', 'acoustic_cutoff']\n",
    "\n",
    "        f = h5py.File(filepath, 'r')\n",
    "        # print(filepath)\n",
    "        cols = ['index', 'profile_number', 'flag_seismo', \n",
    "                'star_age', 'star_mass', 'luminosity', 'radius', 'Teff', 'delta_nu_scaling', 'numax_scaling', 'acoustic_cutoff', 'delta_Pg', 'log_g',\n",
    "                'Yinit', 'Xinit', 'Zinit', 'center_h1', 'fov_core', 'fov_shell', 'amlt', 'FeH', 'log_LHe', 'log_Lnuc']\n",
    "\n",
    "\n",
    "        atrack = Table([f[col][:] for col in cols], names=cols)\n",
    "        idx = (atrack['flag_seismo']==1) & (atrack['numax_scaling']>15) & ((atrack['log_LHe']-atrack['log_Lnuc'])<-3)\n",
    "\n",
    "        atrack = atrack[idx]\n",
    "        atrack['density'] = atrack['star_mass']**0.5/atrack['radius']**-1.5\n",
    "        atrack['numax'] = atrack['numax_scaling']\n",
    "        atrack['Dnu'] = atrack['delta_nu_scaling']\n",
    "\n",
    "        atrack['[M/H]'] = atrack['FeH']\n",
    "        atrack['mode_l'] = np.zeros(len(atrack), dtype=object)\n",
    "        atrack['mode_n'] = np.zeros(len(atrack), dtype=object)\n",
    "        atrack['mode_freq_o'] = np.zeros(len(atrack), dtype=object)\n",
    "        atrack['mode_freq'] = np.zeros(len(atrack), dtype=object)\n",
    "        atrack['mode_inertia'] = np.zeros(len(atrack), dtype=object)\n",
    "        \n",
    "        # # # replace the acoustic_cutoff from mesa with numax_scaling\n",
    "        atrack['acoustic_cutoff'] = atrack['numax_scaling']\n",
    "        atrack['Dnu_freq_o'] = np.zeros(len(atrack))\n",
    "        atrack['eps_o'] = np.zeros(len(atrack))\n",
    "        atrack['surf_corr_at_numax'] = np.zeros(len(atrack))\n",
    "        # #\n",
    "        for i in range(len(atrack)):\n",
    "            # historyIndex = atrack[i]['index']\n",
    "            profileIndex = atrack[i]['profile_number']\n",
    "\n",
    "            numax_scaling = atrack[i]['numax_scaling']\n",
    "            g = atrack[i]['star_mass']/atrack[i]['radius']**2.0\n",
    "            Teff = atrack[i]['Teff']\n",
    "            feh = atrack[i]['FeH']\n",
    "            \n",
    "            atrack['mode_l'][i] = f['profile{:0.0f}/{:s}'.format(profileIndex, 'l')][:][0]\n",
    "            atrack['mode_n'][i] = f['profile{:0.0f}/{:s}'.format(profileIndex, 'n_pg')][:][0]\n",
    "            mode_freq = f['profile{:0.0f}/{:s}'.format(profileIndex, 'freq')][:][0]\n",
    "            mode_inertia = f['profile{:0.0f}/{:s}'.format(profileIndex, 'E_norm')][:][0]\n",
    "            \n",
    "            atrack['Dnu_freq_o'][i], atrack['eps_o'][i] = get_model_Dnu(mode_freq, atrack['mode_l'][i], \\\n",
    "                                                    atrack['delta_nu_scaling'][i], atrack['numax_scaling'][i], atrack['mode_n'][i])\n",
    "            \n",
    "            ifrgb = (Teff<5500) & (numax_scaling < 260)\n",
    "            if ifrgb:\n",
    "                thetas = np.array([-3.8369734, 1.0976515, -8.83042 , -1.3841832, \n",
    "                                   -5.0435867, 1.0658274, -8.325036 , -1.3250351])\n",
    "            else:\n",
    "                thetas = np.array([-3.715097 , 0.6096728 , -1.6813153 , -0.08168457, \n",
    "                                   -5.550722 , 0.6479634 , -1.5653569 , -0.64631474])\n",
    "            \n",
    "            # thetas = np.array([-4.124002 , 0.9858308 , -7.428942 , 0.09117827, \n",
    "            #                    -5.4557753 , 0.9639112 , -6.7885838 , -0.15924262])\n",
    "                \n",
    "            D1 = thetas[0] * (g)**thetas[1] * (Teff/5777.)**thetas[2] * (thetas[3]*feh + 1) # surf corr at numax\n",
    "            D2 = thetas[4] * (g)**thetas[5] * (Teff/5777.)**thetas[6] * (thetas[7]*feh + 1) # surf corr at scale*numax\n",
    "            scale = 1.1\n",
    "\n",
    "            fi = scipy.interpolate.interp1d(mode_freq, (mode_freq/numax_scaling)**3.0/mode_inertia, kind='cubic', fill_value='extrapolate')\n",
    "            gs = fi(numax_scaling)\n",
    "\n",
    "            fi = scipy.interpolate.interp1d(mode_freq, (mode_freq/numax_scaling)**-1.0/mode_inertia, kind='cubic', fill_value='extrapolate')\n",
    "            fs = fi(numax_scaling)\n",
    "\n",
    "            surface_a3 = (scale**-1 * D1 - D2)/ ((scale**-1 - scale**3) *gs)\n",
    "            surface_a1 = (scale**3 * D1 - D2)/ ((scale**3 - scale**-1) *fs)\n",
    "            dfreq = (surface_a3 *(mode_freq/numax_scaling)**3.0+surface_a1 *(mode_freq/numax_scaling)**-1.0)/mode_inertia\n",
    "            \n",
    "            atrack['mode_freq_o'][i] = mode_freq\n",
    "            atrack['mode_freq'][i] = mode_freq + dfreq\n",
    "            atrack['mode_inertia'][i] = mode_inertia\n",
    "            atrack['surf_corr_at_numax'][i] = D1\n",
    "            \n",
    "        return atrack\n",
    "    \n",
    "\n",
    "    tracks = process_map(multi, grids.loc[sl,:].iterrows(), total=end-start, max_workers=14)\n",
    "    data = astropy.table.vstack([track for track in tracks if track is not None])\n",
    "    np.save('models/calibratedsep/tracks_{:0.0f}_{:0.0f}'.format(sl.start, sl.stop), data)\n"
   ]
  },
  {
   "cell_type": "code",
   "execution_count": null,
   "id": "83e6048e-a50a-4508-96f7-9989d2c5dd0f",
   "metadata": {},
   "outputs": [],
   "source": []
  }
 ],
 "metadata": {
  "kernelspec": {
   "display_name": "Python 3",
   "language": "python",
   "name": "python3"
  },
  "language_info": {
   "codemirror_mode": {
    "name": "ipython",
    "version": 3
   },
   "file_extension": ".py",
   "mimetype": "text/x-python",
   "name": "python",
   "nbconvert_exporter": "python",
   "pygments_lexer": "ipython3",
   "version": "3.7.9"
  },
  "toc-autonumbering": true
 },
 "nbformat": 4,
 "nbformat_minor": 5
}
