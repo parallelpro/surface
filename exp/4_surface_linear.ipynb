{
 "cells": [
  {
   "cell_type": "code",
   "execution_count": 1,
   "id": "55dc869e-eb4c-460a-bf59-95c2ae07799f",
   "metadata": {},
   "outputs": [],
   "source": [
    "%run setup.py\n",
    "\n",
    "import jax.numpy as jnp\n",
    "import jax\n",
    "import numpy as np\n",
    "from tqdm import tqdm\n",
    "import scipy.interpolate"
   ]
  },
  {
   "cell_type": "markdown",
   "id": "5b1092c6-babe-4053-b1b4-8512ecb2acdf",
   "metadata": {},
   "source": [
    "# Read in eligible models"
   ]
  },
  {
   "cell_type": "code",
   "execution_count": 26,
   "id": "7a017a96-a790-47aa-82cd-a97917516085",
   "metadata": {},
   "outputs": [],
   "source": [
    "stars = pd.read_excel('sample/samples.xlsx')\n",
    "\n",
    "subsets = 'ms'\n",
    "# subsets = 'rgb'\n",
    "# subsets = 'all'\n",
    "\n",
    "if subsets == 'all' :\n",
    "    idx = (stars['ifmodelling']==1) & (~np.isin(stars['names'], ['ngc6791', 'ngc6819', 'binary']))\n",
    "elif subsets == 'rgb' :\n",
    "    idx = np.isin(stars['stage'], ['rgb']) & (stars['ifmodelling']==1) & (~np.isin(stars['names'], ['ngc6791', 'ngc6819', 'binary']))\n",
    "else :\n",
    "    idx = np.isin(stars['stage'], ['esg', 'lsg', 'ms']) & (stars['ifmodelling']==1) & (~np.isin(stars['names'], ['ngc6791', 'ngc6819', 'binary']))\n",
    "    \n",
    "stars = stars.loc[idx,:].reset_index(drop=True)"
   ]
  },
  {
   "cell_type": "code",
   "execution_count": 27,
   "id": "081e56fb-f5c4-40f1-bffe-dce3ca8e1601",
   "metadata": {},
   "outputs": [],
   "source": [
    "stardata = np.load('data/stellar_models_for_surface_optimisation.npy', allow_pickle=True)"
   ]
  },
  {
   "cell_type": "code",
   "execution_count": 28,
   "id": "587c731f-2c05-49de-9661-3fedc1d31374",
   "metadata": {},
   "outputs": [],
   "source": [
    "Nmodels_star = np.array([stardata[istar]['Nmodels'] for istar in range(len(stardata))])\n",
    "Nmodes_star = np.array([stardata[istar]['Nmodes'] for istar in range(len(stardata))])\n",
    "kics_star = np.array([stardata[istar]['KIC'] for istar in range(len(stardata))])\n",
    "# minchi2 = np.array([np.min(stardata[istar]['chi2']) for istar in range(len(stardata))])\n",
    "# stardata = stardata[ (minchi2<20) & (Nmodels == 1000)]\n",
    "# stardata = stardata[Nmodels]\n",
    "# np.random.seed(0)\n",
    "# stardata = np.random.choice(stardata, size=500, replace=False)\n",
    "# Nstars = len(stardata)\n",
    "stardata = stardata[(Nmodels_star == 200) & (Nmodes_star >= 5) & np.isin(kics_star, stars['KIC'])]\n",
    "Nstars = len(stardata)"
   ]
  },
  {
   "cell_type": "code",
   "execution_count": 29,
   "id": "e227e76c-29d8-43d6-b935-1bd879a0267c",
   "metadata": {},
   "outputs": [
    {
     "data": {
      "text/plain": [
       "67"
      ]
     },
     "execution_count": 29,
     "metadata": {},
     "output_type": "execute_result"
    }
   ],
   "source": [
    "Nstars"
   ]
  },
  {
   "cell_type": "code",
   "execution_count": 30,
   "id": "140b5c57-d6cf-43a3-a463-c6002c04b16a",
   "metadata": {},
   "outputs": [
    {
     "name": "stderr",
     "output_type": "stream",
     "text": [
      "100%|███████████████████████████████████████████████████████| 67/67 [00:01<00:00, 45.85it/s]\n"
     ]
    }
   ],
   "source": [
    "Nmodes_max = np.max([stardata[istar]['Nmodes'] for istar in range(Nstars)])\n",
    "Nmodels_max = np.max([stardata[istar]['Nmodels'] for istar in range(Nstars)])\n",
    "chi2s_nonseis = np.zeros((Nmodels_max, Nstars))+np.nan \n",
    "gravs, Teffs, fehs, numaxs = [np.zeros((Nmodels_max, Nmodes_max, Nstars))+np.nan for i in range(4)]\n",
    "# f = (numax/nuac)^-1/I\n",
    "# g = (numax/nuac)^3/I\n",
    "# scale\n",
    "# D1 = dfreq(numax) = a1 * f + a3 * g\n",
    "# D2 = dfreq(scale*numax) = s^-1 * a1 * f + s^3 * a3 * g\n",
    "# scale = 1.2\n",
    "fs, gs, fs_d, gs_d  = [np.zeros((Nmodels_max, Nmodes_max, Nstars))+np.nan for i in range(4)]\n",
    "obs_freq_data, obs_efreq_data, mod_freq_data, mod_inertia_data, mod_efreq_sys = [np.ones((Nmodels_max, Nmodes_max, Nstars)) for i in range(5)]\n",
    "\n",
    "Nmodes_imod_istar = np.ones((Nmodels_max, Nstars))\n",
    "weights_imod_istar = np.ones((Nmodels_max, Nstars))\n",
    "\n",
    "idxf = np.zeros(Nstars, dtype=bool)\n",
    "\n",
    "for istar in tqdm(range(Nstars)):\n",
    "    Nmodes = stardata[istar]['Nmodes']\n",
    "    Nmodels = stardata[istar]['Nmodels']\n",
    "    mod_freq_data[0:Nmodels,0:Nmodes,istar] = stardata[istar]['mod_freqs'][:,:]\n",
    "    mod_inertia_data[0:Nmodels,0:Nmodes,istar] = stardata[istar]['mod_inertias'][:,:]\n",
    "    chi2s_nonseis[0:Nmodels,istar] = stardata[istar]['chi2_nonseis']\n",
    "\n",
    "    for imod in range(Nmodels):\n",
    "        obs_freq_data[imod,0:Nmodes,istar] = stardata[istar]['obs_freq']\n",
    "        obs_efreq_data[imod,0:Nmodes,istar] = stardata[istar]['obs_efreq'] #np.ones(len(stardata[istar]['obs_freq'])) # \n",
    "        mod_efreq_sys[imod,0:Nmodes,istar] = stardata[istar]['mod_efreq_sys']\n",
    "            \n",
    "        fi = scipy.interpolate.interp1d(stardata[istar]['mod_freqs'][imod,:], \n",
    "              (stardata[istar]['mod_freqs'][imod,:]/stardata[istar]['numax_scaling'][imod])**3.0/stardata[istar]['mod_inertias'][imod,:], \n",
    "              kind='cubic', fill_value='extrapolate')\n",
    "        gs[imod,:,istar] = fi(stardata[istar]['numax_scaling'][imod])\n",
    "        # gs_d[imod,:,istar] = (fi(stardata[istar]['numax_scaling'][imod]+0.01) - fi(stardata[istar]['numax_scaling'][imod]-0.01) )/ (0.02)\n",
    "        \n",
    "        fi = scipy.interpolate.interp1d(stardata[istar]['mod_freqs'][imod,:], \n",
    "              (stardata[istar]['mod_freqs'][imod,:]/stardata[istar]['numax_scaling'][imod])**-1.0/stardata[istar]['mod_inertias'][imod,:], \n",
    "              kind='cubic', fill_value='extrapolate')\n",
    "        fs[imod,:,istar] = fi(stardata[istar]['numax_scaling'][imod])\n",
    "        # fs_d[imod,:,istar] = (fi(stardata[istar]['numax_scaling'][imod]+0.01) - fi(stardata[istar]['numax_scaling'][imod]-0.01) )/ (0.02)\n",
    "        \n",
    "        gravs[imod,:,istar] = stardata[istar]['g'][imod]\n",
    "        Teffs[imod,:,istar] = stardata[istar]['Teff'][imod]\n",
    "        fehs[imod,:,istar] = stardata[istar]['feh'][imod]\n",
    "        numaxs[imod,:,istar] = stardata[istar]['numax_scaling'][imod]\n",
    "    \n",
    "    Nmodes_imod_istar[:, istar] = Nmodes\n",
    "    weights_imod_istar[0:Nmodels, istar] = np.log(1/Nmodels)\n",
    "    weights_imod_istar[Nmodels:, istar] = -10000\n",
    "    idxf[istar] = np.sum(np.isfinite(gravs[:,:,istar]))\n",
    "\n",
    "gravs, Teffs, fehs, numaxs = gravs[:,:,idxf], Teffs[:,:,idxf], fehs[:,:,idxf], numaxs[:,:,idxf]\n",
    "fs, gs = fs[:,:,idxf], gs[:,:,idxf]\n",
    "# fs_d, gs_d = fs_d[:,:,idxf], gs_d[:,:,idxf]\n",
    "obs_freq_data, obs_efreq_data = obs_freq_data[:,:,idxf], obs_efreq_data[:,:,idxf]\n",
    "mod_freq_data, mod_inertia_data = mod_freq_data[:,:,idxf], mod_inertia_data[:,:,idxf]\n",
    "chi2s_nonseis = chi2s_nonseis[:,idxf]\n",
    "\n",
    "weight_seis = 1. # 1/10.\n",
    "weight_nonseis = 1."
   ]
  },
  {
   "cell_type": "code",
   "execution_count": 31,
   "id": "c18c36b9-cd45-4b49-9d7d-8f401ff8b690",
   "metadata": {},
   "outputs": [
    {
     "data": {
      "text/plain": [
       "((200, 21, 67), (200, 21, 67))"
      ]
     },
     "execution_count": 31,
     "metadata": {},
     "output_type": "execute_result"
    }
   ],
   "source": [
    "mod_freq_data.shape, gravs.shape  # Nmodels_max, Nmodes_max, Nstars"
   ]
  },
  {
   "cell_type": "code",
   "execution_count": 32,
   "id": "f11c6d6f-d621-4f2e-ab8e-c957fef47ac6",
   "metadata": {},
   "outputs": [],
   "source": [
    "# make everything jax\n",
    "mod_freq_data = jnp.asarray(mod_freq_data)\n",
    "numaxs = jnp.asarray(numaxs)\n",
    "mod_inertia_data = jnp.asarray(mod_inertia_data)\n",
    "obs_freq_data = jnp.asarray(obs_freq_data)\n",
    "\n",
    "Teffs = jnp.asarray(Teffs)\n",
    "gravs = jnp.asarray(gravs)\n",
    "fehs = jnp.asarray(fehs)\n",
    "\n",
    "gs = jnp.asarray(gs)\n",
    "fs = jnp.asarray(fs)\n",
    "\n",
    "weights_imod_istar = jnp.asarray(weights_imod_istar)"
   ]
  },
  {
   "cell_type": "markdown",
   "id": "16cb041b-5918-425e-a1c2-a6608904a1d4",
   "metadata": {},
   "source": [
    "# Optimisation"
   ]
  },
  {
   "cell_type": "code",
   "execution_count": 33,
   "id": "7f54122d-caf5-4cf5-a9e1-fdbc42c00834",
   "metadata": {},
   "outputs": [],
   "source": [
    "# fitting model to be minimized\n",
    "def model_linear(thetas, *s): # use numax and scale*numax, feh\n",
    "    D1 = thetas[0] * (gravs)**thetas[1] * (Teffs/5777.)**thetas[2] * (thetas[3]*fehs + 1) # surf corr at numax\n",
    "    surface_a3 = D1/gs\n",
    "                \n",
    "    dfreq = (surface_a3*(mod_freq_data/numaxs)**3.0)/mod_inertia_data\n",
    "    mod_freq_corr_data = mod_freq_data + dfreq \n",
    "    \n",
    "    chi2s_seis = jnp.mean((mod_freq_corr_data-obs_freq_data)**2.0/(obs_efreq_data**2. + mod_efreq_sys**2.), \n",
    "                          axis=1,\n",
    "                          where=mod_freq_data!=1.)\n",
    "\n",
    "    chi2 = chi2s_seis*weight_seis + chi2s_nonseis*weight_nonseis\n",
    "    logP_star = jax.scipy.special.logsumexp(-chi2/2+weights_imod_istar, axis=0)\n",
    "    \n",
    "    return -jnp.nansum(logP_star)\n",
    "\n",
    "jit_model_linear = jax.jit(model_linear)"
   ]
  },
  {
   "cell_type": "code",
   "execution_count": 34,
   "id": "ba9928b9-738a-466e-91f7-4f7b5b4fb5bb",
   "metadata": {},
   "outputs": [
    {
     "name": "stdout",
     "output_type": "stream",
     "text": [
      "596.0312\n",
      "[ 31.261253  287.25397    12.425717   -2.5516622]\n"
     ]
    }
   ],
   "source": [
    "paramsInit = jnp.array([-4.22, 1.0, -8.44, -0.41])\n",
    "\n",
    "# test if works\n",
    "print(jit_model_linear(paramsInit))\n",
    "\n",
    "# test if grad works\n",
    "print(jax.grad(jit_model_linear)(paramsInit))"
   ]
  },
  {
   "cell_type": "code",
   "execution_count": 35,
   "id": "7ad9fe67-39bf-4b23-81f9-4b274e79bc0c",
   "metadata": {},
   "outputs": [
    {
     "name": "stdout",
     "output_type": "stream",
     "text": [
      "step 0, loss: 596.0311889648438\n",
      "step 300, loss: 583.40869140625\n",
      "step 600, loss: 582.3173828125\n",
      "step 900, loss: 582.309326171875\n",
      "step 1200, loss: 582.3093872070312\n",
      "step 1500, loss: 582.3093872070312\n",
      "step 1800, loss: 582.3093872070312\n",
      "step 2100, loss: 582.3094482421875\n",
      "step 2400, loss: 582.3093872070312\n",
      "step 2700, loss: 582.3093872070312\n"
     ]
    }
   ],
   "source": [
    "import optax\n",
    "\n",
    "def fit(params, optimizer):\n",
    "    opt_state = optimizer.init(params)\n",
    "\n",
    "    @jax.jit\n",
    "    def step(params, opt_state):\n",
    "        loss_value, grads = jax.value_and_grad(model_linear)(params)\n",
    "        updates, opt_state = optimizer.update(grads, opt_state, params)\n",
    "        params = optax.apply_updates(params, updates)\n",
    "        return params, opt_state, loss_value\n",
    "\n",
    "    for i  in range(3000):\n",
    "        params, opt_state, loss_value = step(params, opt_state)\n",
    "        if i % 300 == 0:\n",
    "            print(f'step {i}, loss: {loss_value}')\n",
    "\n",
    "    return params\n",
    "\n",
    "# Finally, we can fit our parametrized function using the Adam optimizer\n",
    "# provided by optax.\n",
    "optimizer = optax.adam(learning_rate=1e-2)\n",
    "params = fit(paramsInit, optimizer)"
   ]
  },
  {
   "cell_type": "code",
   "execution_count": 38,
   "id": "f9ad94f8-f091-4083-b1a4-e3df5cf09941",
   "metadata": {},
   "outputs": [
    {
     "data": {
      "text/plain": [
       "DeviceArray([-4.186023  ,  0.7813644 , -5.7118735 , -0.07299965], dtype=float32)"
      ]
     },
     "execution_count": 38,
     "metadata": {},
     "output_type": "execute_result"
    }
   ],
   "source": [
    "# estimated values\n",
    "params"
   ]
  },
  {
   "cell_type": "code",
   "execution_count": 39,
   "id": "5b7139b6-854e-4436-a65a-ede8f1768b9f",
   "metadata": {},
   "outputs": [
    {
     "data": {
      "text/plain": [
       "DeviceArray([0.3921687 , 0.06778456, 0.5822848 , 0.13034512], dtype=float32)"
      ]
     },
     "execution_count": 39,
     "metadata": {},
     "output_type": "execute_result"
    }
   ],
   "source": [
    "# approx uncertainties from the Hessian matrix\n",
    "err = jnp.diag(jnp.linalg.inv(jax.hessian(jit_model_linear)(params)))**0.5\n",
    "err"
   ]
  },
  {
   "cell_type": "markdown",
   "id": "72852199-459a-447c-916a-99e4b9158bad",
   "metadata": {},
   "source": [
    "# Results\n",
    "## all sample\n",
    "DeviceArray([-4.1485624,  0.9450712, -5.479969 , -1.0995963], dtype=float32)\n",
    "             \n",
    "DeviceArray([0.13009433, 0.01215709, 0.23190716, 0.02584277], dtype=float32)\n",
    "             \n",
    "## RGB sample\n",
    "DeviceArray([-4.181521  ,  0.95523196, -5.6379514 , -1.1099834 ], dtype=float32)\n",
    "\n",
    "DeviceArray([0.13015431, 0.01164923, 0.22260946, 0.02455296], dtype=float32)\n",
    "\n",
    "## MS+SG sample\n",
    "DeviceArray([-4.186023  ,  0.7813644 , -5.7118735 , -0.07299965], dtype=float32)\n",
    "\n",
    "DeviceArray([0.3921687 , 0.06778456, 0.5822848 , 0.13034512], dtype=float32)"
   ]
  },
  {
   "cell_type": "code",
   "execution_count": null,
   "id": "7bf849b3-0e09-4b15-83e9-cbf4d4a0669d",
   "metadata": {},
   "outputs": [],
   "source": []
  }
 ],
 "metadata": {
  "kernelspec": {
   "display_name": "Python 3",
   "language": "python",
   "name": "python3"
  },
  "language_info": {
   "codemirror_mode": {
    "name": "ipython",
    "version": 3
   },
   "file_extension": ".py",
   "mimetype": "text/x-python",
   "name": "python",
   "nbconvert_exporter": "python",
   "pygments_lexer": "ipython3",
   "version": "3.7.9"
  },
  "toc-autonumbering": true
 },
 "nbformat": 4,
 "nbformat_minor": 5
}
