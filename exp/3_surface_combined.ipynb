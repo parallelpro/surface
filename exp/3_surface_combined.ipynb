{
 "cells": [
  {
   "cell_type": "code",
   "execution_count": 26,
   "id": "55dc869e-eb4c-460a-bf59-95c2ae07799f",
   "metadata": {},
   "outputs": [],
   "source": [
    "%run setup.py\n",
    "\n",
    "import jax.numpy as jnp\n",
    "import jax\n",
    "import numpy as np\n",
    "from tqdm import tqdm\n",
    "import scipy.interpolate"
   ]
  },
  {
   "cell_type": "markdown",
   "id": "5b1092c6-babe-4053-b1b4-8512ecb2acdf",
   "metadata": {},
   "source": [
    "# Read in eligible models"
   ]
  },
  {
   "cell_type": "code",
   "execution_count": 215,
   "id": "7a017a96-a790-47aa-82cd-a97917516085",
   "metadata": {},
   "outputs": [],
   "source": [
    "stars = pd.read_excel('sample/samples.xlsx')\n",
    "\n",
    "# subsets = 'ms'\n",
    "# subsets = 'rgb'\n",
    "subsets = 'all'\n",
    "\n",
    "if subsets == 'all' :\n",
    "    idx = (stars['ifmodelling']==1) & (~np.isin(stars['names'], ['ngc6791', 'ngc6819', 'binary']))\n",
    "elif subsets == 'rgb' :\n",
    "    idx = np.isin(stars['stage'], ['rgb']) & (stars['ifmodelling']==1) & (~np.isin(stars['names'], ['ngc6791', 'ngc6819', 'binary']))\n",
    "else :\n",
    "    idx = np.isin(stars['stage'], ['esg', 'lsg', 'ms']) & (stars['ifmodelling']==1) & (~np.isin(stars['names'], ['ngc6791', 'ngc6819', 'binary']))\n",
    "    \n",
    "stars = stars.loc[idx,:].reset_index(drop=True)"
   ]
  },
  {
   "cell_type": "code",
   "execution_count": 221,
   "id": "081e56fb-f5c4-40f1-bffe-dce3ca8e1601",
   "metadata": {},
   "outputs": [],
   "source": [
    "stardata = np.load('data/stellar_models_for_surface_optimisation.npy', allow_pickle=True)"
   ]
  },
  {
   "cell_type": "code",
   "execution_count": 222,
   "id": "587c731f-2c05-49de-9661-3fedc1d31374",
   "metadata": {},
   "outputs": [],
   "source": [
    "Nmodels_star = np.array([stardata[istar]['Nmodels'] for istar in range(len(stardata))])\n",
    "Nmodes_star = np.array([stardata[istar]['Nmodes'] for istar in range(len(stardata))])\n",
    "kics_star = np.array([stardata[istar]['KIC'] for istar in range(len(stardata))])\n",
    "# minchi2 = np.array([np.min(stardata[istar]['chi2']) for istar in range(len(stardata))])\n",
    "# stardata = stardata[ (minchi2<20) & (Nmodels == 1000)]\n",
    "# stardata = stardata[Nmodels]\n",
    "# np.random.seed(0)\n",
    "# stardata = np.random.choice(stardata, size=500, replace=False)\n",
    "# Nstars = len(stardata)\n",
    "stardata = stardata[(Nmodes_star >= 4) & np.isin(kics_star, stars['KIC'])] #(Nmodels_star == 200) & \n",
    "Nstars = len(stardata)"
   ]
  },
  {
   "cell_type": "code",
   "execution_count": 223,
   "id": "e227e76c-29d8-43d6-b935-1bd879a0267c",
   "metadata": {},
   "outputs": [
    {
     "data": {
      "text/plain": [
       "1162"
      ]
     },
     "execution_count": 223,
     "metadata": {},
     "output_type": "execute_result"
    }
   ],
   "source": [
    "Nstars"
   ]
  },
  {
   "cell_type": "code",
   "execution_count": 224,
   "id": "140b5c57-d6cf-43a3-a463-c6002c04b16a",
   "metadata": {},
   "outputs": [
    {
     "name": "stderr",
     "output_type": "stream",
     "text": [
      "100%|████████████████████████████████████████████████████████████████████| 1162/1162 [00:49<00:00, 23.48it/s]\n"
     ]
    }
   ],
   "source": [
    "Nmodes_max = np.max([stardata[istar]['Nmodes'] for istar in range(Nstars)])\n",
    "Nmodels_max = np.max([stardata[istar]['Nmodels'] for istar in range(Nstars)])\n",
    "chi2s_nonseis = np.zeros((Nmodels_max, Nstars))\n",
    "gravs = np.ones((Nmodels_max, Nmodes_max, Nstars)) + 1.\n",
    "Teffs = np.ones((Nmodels_max, Nmodes_max, Nstars)) + 5777.\n",
    "fehs = np.ones((Nmodels_max, Nmodes_max, Nstars)) + 0. \n",
    "numaxs = np.ones((Nmodels_max, Nmodes_max, Nstars)) + 3090.\n",
    "# f = (numax/nuac)^-1/I\n",
    "# g = (numax/nuac)^3/I\n",
    "# scale\n",
    "# D1 = dfreq(numax) = a1 * f + a3 * g\n",
    "# D2 = dfreq(scale*numax) = s^-1 * a1 * f + s^3 * a3 * g\n",
    "# scale = 1.2\n",
    "fs, gs, fs_d, gs_d  = [np.ones((Nmodels_max, Nmodes_max, Nstars)) for i in range(4)]\n",
    "obs_freq_data, obs_efreq_data, mod_freq_data, mod_inertia_data, mod_efreq_sys = [np.ones((Nmodels_max, Nmodes_max, Nstars)) for i in range(5)]\n",
    "\n",
    "Nmodes_imod_istar = np.ones((Nmodels_max, Nstars))\n",
    "weights_imod_istar = np.ones((Nmodels_max, Nstars))\n",
    "imode_imod_istar = np.zeros((Nmodels_max, Nmodes_max, Nstars))\n",
    "\n",
    "idxf = np.zeros(Nstars, dtype=bool)\n",
    "\n",
    "for istar in tqdm(range(Nstars)):\n",
    "    Nmodes = stardata[istar]['Nmodes']\n",
    "    Nmodels = stardata[istar]['Nmodels']\n",
    "    mod_freq_data[0:Nmodels,0:Nmodes,istar] = stardata[istar]['mod_freqs'][:,:]\n",
    "    mod_inertia_data[0:Nmodels,0:Nmodes,istar] = stardata[istar]['mod_inertias'][:,:]\n",
    "    chi2s_nonseis[0:Nmodels,istar] = stardata[istar]['chi2_nonseis']\n",
    "\n",
    "    for imod in range(Nmodels):\n",
    "        obs_freq_data[imod,0:Nmodes,istar] = stardata[istar]['obs_freq']\n",
    "        obs_efreq_data[imod,0:Nmodes,istar] = stardata[istar]['obs_efreq'] #np.ones(len(stardata[istar]['obs_freq'])) # \n",
    "        mod_efreq_sys[imod,0:Nmodes,istar] = stardata[istar]['mod_efreq_sys']\n",
    "            \n",
    "        fi = scipy.interpolate.interp1d(stardata[istar]['mod_freqs'][imod,:], \n",
    "              (stardata[istar]['mod_freqs'][imod,:]/stardata[istar]['numax_scaling'][imod])**3.0/stardata[istar]['mod_inertias'][imod,:], \n",
    "              kind='cubic', fill_value='extrapolate')\n",
    "        gs[imod,:,istar] = fi(stardata[istar]['numax_scaling'][imod])\n",
    "        # gs_d[imod,:,istar] = (fi(stardata[istar]['numax_scaling'][imod]+0.01) - fi(stardata[istar]['numax_scaling'][imod]-0.01) )/ (0.02)\n",
    "        \n",
    "        fi = scipy.interpolate.interp1d(stardata[istar]['mod_freqs'][imod,:], \n",
    "              (stardata[istar]['mod_freqs'][imod,:]/stardata[istar]['numax_scaling'][imod])**-1.0/stardata[istar]['mod_inertias'][imod,:], \n",
    "              kind='cubic', fill_value='extrapolate')\n",
    "        fs[imod,:,istar] = fi(stardata[istar]['numax_scaling'][imod])\n",
    "        # fs_d[imod,:,istar] = (fi(stardata[istar]['numax_scaling'][imod]+0.01) - fi(stardata[istar]['numax_scaling'][imod]-0.01) )/ (0.02)\n",
    "        \n",
    "        gravs[imod,:,istar] = stardata[istar]['g'][imod]\n",
    "        Teffs[imod,:,istar] = stardata[istar]['Teff'][imod]\n",
    "        fehs[imod,:,istar] = stardata[istar]['feh'][imod]\n",
    "        numaxs[imod,:,istar] = stardata[istar]['numax_scaling'][imod]\n",
    "    \n",
    "    Nmodes_imod_istar[:, istar] = Nmodes\n",
    "    weights_imod_istar[0:Nmodels, istar] = 1/Nmodels\n",
    "    weights_imod_istar[Nmodels:, istar] = 0\n",
    "    imode_imod_istar[:, 0:Nmodes, istar] = 1.\n",
    "    idxf[istar] = np.sum(np.isfinite(gravs[:,:,istar]))\n",
    "\n",
    "gravs, Teffs, fehs, numaxs = gravs[:,:,idxf], Teffs[:,:,idxf], fehs[:,:,idxf], numaxs[:,:,idxf]\n",
    "fs, gs = fs[:,:,idxf], gs[:,:,idxf]\n",
    "# fs_d, gs_d = fs_d[:,:,idxf], gs_d[:,:,idxf]\n",
    "obs_freq_data, obs_efreq_data = obs_freq_data[:,:,idxf], obs_efreq_data[:,:,idxf]\n",
    "mod_freq_data, mod_inertia_data = mod_freq_data[:,:,idxf], mod_inertia_data[:,:,idxf]\n",
    "chi2s_nonseis = chi2s_nonseis[:,idxf]\n",
    "\n",
    "weight_seis = 1. # 1/10.\n",
    "weight_nonseis = 1."
   ]
  },
  {
   "cell_type": "code",
   "execution_count": 225,
   "id": "c18c36b9-cd45-4b49-9d7d-8f401ff8b690",
   "metadata": {},
   "outputs": [
    {
     "data": {
      "text/plain": [
       "((1500, 21, 1162), (1500, 21, 1162))"
      ]
     },
     "execution_count": 225,
     "metadata": {},
     "output_type": "execute_result"
    }
   ],
   "source": [
    "mod_freq_data.shape, gravs.shape  # Nmodels_max, Nmodes_max, Nstars"
   ]
  },
  {
   "cell_type": "code",
   "execution_count": 226,
   "id": "f11c6d6f-d621-4f2e-ab8e-c957fef47ac6",
   "metadata": {},
   "outputs": [],
   "source": [
    "# make everything jax\n",
    "mod_freq_data = jnp.asarray(mod_freq_data)\n",
    "numaxs = jnp.asarray(numaxs)\n",
    "mod_inertia_data = jnp.asarray(mod_inertia_data)\n",
    "obs_freq_data = jnp.asarray(obs_freq_data)\n",
    "\n",
    "Teffs = jnp.asarray(Teffs)\n",
    "gravs = jnp.asarray(gravs)\n",
    "fehs = jnp.asarray(fehs)\n",
    "\n",
    "gs = jnp.asarray(gs)\n",
    "fs = jnp.asarray(fs)\n",
    "\n",
    "weights_imod_istar = jnp.asarray(weights_imod_istar)\n",
    "imode_imod_istar = jnp.asarray(imode_imod_istar)"
   ]
  },
  {
   "cell_type": "markdown",
   "id": "16cb041b-5918-425e-a1c2-a6608904a1d4",
   "metadata": {},
   "source": [
    "# Optimisation"
   ]
  },
  {
   "cell_type": "code",
   "execution_count": 227,
   "id": "7f54122d-caf5-4cf5-a9e1-fdbc42c00834",
   "metadata": {},
   "outputs": [],
   "source": [
    "# fitting model to be minimized\n",
    "def model_linear(thetas, *s): # use numax and scale*numax, feh\n",
    "    D1 = thetas[0] * (gravs)**thetas[1] * (Teffs/5777.)**thetas[2] * (thetas[3]*fehs + 1) # surf corr at numax\n",
    "    D2 = thetas[4] * (gravs)**thetas[5] * (Teffs/5777.)**thetas[6] * (thetas[7]*fehs + 1) # surf corr at scale*numax\n",
    "    scale = 1.1\n",
    "\n",
    "    surface_a3 = (scale**-1 * D1 - D2)/ ((scale**-1 - scale**3) *gs)\n",
    "    surface_a1 = (scale**3 * D1 - D2)/ ((scale**3 - scale**-1) *fs)\n",
    "                \n",
    "    dfreq = (surface_a3 * (mod_freq_data/numaxs)**3.0 + surface_a1 * (mod_freq_data/numaxs)**-1.0)/mod_inertia_data\n",
    "    mod_freq_corr_data = mod_freq_data + dfreq \n",
    "    \n",
    "    chi2s_seis = jnp.mean((mod_freq_corr_data-obs_freq_data)**2.0/(obs_efreq_data**2. + mod_efreq_sys**2.), \n",
    "                          axis=1,\n",
    "                          where=imode_imod_istar==1.)\n",
    "\n",
    "    chi2 = chi2s_seis*weight_seis + chi2s_nonseis*weight_nonseis\n",
    "    logP_star = jax.scipy.special.logsumexp(-chi2/2, axis=0, b=weights_imod_istar)\n",
    "    \n",
    "    return -jnp.nansum(logP_star)\n",
    "\n",
    "jit_model_linear = jax.jit(model_linear)"
   ]
  },
  {
   "cell_type": "code",
   "execution_count": 228,
   "id": "ba9928b9-738a-466e-91f7-4f7b5b4fb5bb",
   "metadata": {},
   "outputs": [
    {
     "name": "stderr",
     "output_type": "stream",
     "text": [
      "2022-12-13 00:06:21.176150: E external/org_tensorflow/tensorflow/compiler/xla/service/slow_operation_alarm.cc:65] Constant folding an instruction is taking > 4s:\n",
      "\n",
      "  reduce.109 (displaying the full instruction incurs a runtime overhead. Raise your logging level to 4 or above).\n",
      "\n",
      "This isn't necessarily a bug; constant-folding is inherently a trade-off between compilation time and speed at runtime.  XLA has some guards that attempt to keep constant folding from taking too long, but fundamentally you'll always be able to come up with an input program that takes a long time.\n",
      "\n",
      "If you'd like to file a bug, run with envvar XLA_FLAGS=--xla_dump_to=/tmp/foo and attach the results.\n",
      "2022-12-13 00:06:22.150347: E external/org_tensorflow/tensorflow/compiler/xla/service/slow_operation_alarm.cc:133] The operation took 4.9835s\n",
      "Constant folding an instruction is taking > 4s:\n",
      "\n",
      "  reduce.109 (displaying the full instruction incurs a runtime overhead. Raise your logging level to 4 or above).\n",
      "\n",
      "This isn't necessarily a bug; constant-folding is inherently a trade-off between compilation time and speed at runtime.  XLA has some guards that attempt to keep constant folding from taking too long, but fundamentally you'll always be able to come up with an input program that takes a long time.\n",
      "\n",
      "If you'd like to file a bug, run with envvar XLA_FLAGS=--xla_dump_to=/tmp/foo and attach the results.\n"
     ]
    },
    {
     "name": "stdout",
     "output_type": "stream",
     "text": [
      "44991.23\n",
      "[-2.4030268e+04 -3.6665669e+05 -1.9202863e+04  1.6515952e+03\n",
      "  1.7273779e+04  3.2324522e+05  1.6820492e+04  4.5648476e+01]\n"
     ]
    }
   ],
   "source": [
    "paramsInit = jnp.array([-4.22, 1.0, -8.44, -0.41, #[-4.22, 0.99, -6.44, -0.41]\n",
    "                  -5.22, 1.0, -6.44, -0.41])\n",
    "# paramsInit = jnp.array([-7.883228  ,  1.2839227 , -6.3577967 , -0.01633822,\n",
    "#              -8.4594965 ,  1.1317054 , -5.3492737 , -0.3091406 ])\n",
    "\n",
    "# RGB:\n",
    "# [-7.9282274 ,  1.2846141 , -6.3388844 , -0.01533486,\n",
    "#  -8.494455  ,  1.1319928 , -5.3336873 , -0.30835932]\n",
    "# [0.41842967, 0.02130897, 0.3689297 , 0.03597676, \n",
    "# 0.4364696 , 0.0170249 , 0.3102947 , 0.03083902]\n",
    "    \n",
    "# test if works\n",
    "print(jit_model_linear(paramsInit))\n",
    "\n",
    "# test if grad works\n",
    "print(jax.grad(jit_model_linear)(paramsInit))"
   ]
  },
  {
   "cell_type": "code",
   "execution_count": 230,
   "id": "68d1f51d-eaa8-4e3d-b870-a80030cf1a16",
   "metadata": {},
   "outputs": [
    {
     "name": "stdout",
     "output_type": "stream",
     "text": [
      "150 ms ± 1.47 ms per loop (mean ± std. dev. of 7 runs, 10 loops each)\n"
     ]
    }
   ],
   "source": [
    "%timeit jit_model_linear(paramsInit)"
   ]
  },
  {
   "cell_type": "code",
   "execution_count": null,
   "id": "7ad9fe67-39bf-4b23-81f9-4b274e79bc0c",
   "metadata": {},
   "outputs": [
    {
     "name": "stdout",
     "output_type": "stream",
     "text": [
      "step 0, loss: 44991.23046875\n",
      "step 200, loss: 23910.59375\n",
      "step 400, loss: 23828.685546875\n",
      "step 600, loss: 23810.46875\n",
      "step 800, loss: 23801.119140625\n",
      "step 1000, loss: 23732.498046875\n",
      "step 1200, loss: 23729.89453125\n",
      "step 1400, loss: 23728.525390625\n",
      "step 1600, loss: 23727.44140625\n",
      "step 1800, loss: 23726.53515625\n",
      "step 2000, loss: 23725.80859375\n",
      "step 2200, loss: 23725.234375\n",
      "step 2400, loss: 23724.771484375\n",
      "step 2600, loss: 23724.392578125\n",
      "step 2800, loss: 23724.06640625\n",
      "step 3000, loss: 23723.7734375\n",
      "step 3200, loss: 23723.494140625\n",
      "step 3400, loss: 23723.25\n",
      "step 3600, loss: 23723.06640625\n",
      "step 3800, loss: 23722.875\n"
     ]
    }
   ],
   "source": [
    "import optax\n",
    "\n",
    "def fit(params, optimizer):\n",
    "    opt_state = optimizer.init(params)\n",
    "\n",
    "    @jax.jit\n",
    "    def step(params, opt_state):\n",
    "        loss_value, grads = jax.value_and_grad(model_linear)(params)\n",
    "        updates, opt_state = optimizer.update(grads, opt_state, params)\n",
    "        params = optax.apply_updates(params, updates)\n",
    "        return params, opt_state, loss_value\n",
    "\n",
    "    for i  in range(10000):\n",
    "        params, opt_state, loss_value = step(params, opt_state)\n",
    "        if i % 200 == 0:\n",
    "            print(f'step {i}, loss: {loss_value}')\n",
    "\n",
    "    return params\n",
    "\n",
    "# Finally, we can fit our parametrized function using the Adam optimizer\n",
    "# provided by optax.\n",
    "optimizer = optax.adam(learning_rate=2e-2)\n",
    "params = fit(paramsInit, optimizer)"
   ]
  },
  {
   "cell_type": "code",
   "execution_count": null,
   "id": "f9ad94f8-f091-4083-b1a4-e3df5cf09941",
   "metadata": {},
   "outputs": [],
   "source": [
    "# estimated values\n",
    "params"
   ]
  },
  {
   "cell_type": "code",
   "execution_count": null,
   "id": "5b7139b6-854e-4436-a65a-ede8f1768b9f",
   "metadata": {},
   "outputs": [],
   "source": [
    "# approx uncertainties from the Hessian matrix\n",
    "err = jnp.diag(jnp.abs(jnp.linalg.inv(jax.hessian(jit_model_linear)(params))))**0.5\n",
    "err"
   ]
  },
  {
   "cell_type": "markdown",
   "id": "72852199-459a-447c-916a-99e4b9158bad",
   "metadata": {},
   "source": [
    "# Results\n",
    "## all sample\n",
    "DeviceArray([-3.7443726,  1.0866573, -8.742777 , -1.3795667, \n",
    "             -4.9891973,  1.0541984, -8.15369  , -1.3154854], dtype=float32)\n",
    "\n",
    "DeviceArray([0.13330452, 0.01283954, 0.22996646, 0.02094826, \n",
    "             0.13725656, 0.00977644, 0.18469958, 0.01802539], dtype=float32)\n",
    "             \n",
    "## RGB sample\n",
    "DeviceArray([-3.8369734,  1.0976515, -8.83042  , -1.3841832, \n",
    "             -5.0435867,  1.0658274, -8.325036 , -1.3250351], dtype=float32)\n",
    "             \n",
    "DeviceArray([0.16418463, 0.01225858, 0.24061048, 0.02119218, \n",
    "             0.16585062, 0.00967092, 0.1921673 , 0.01829769], dtype=float32)\n",
    "\n",
    "## MS+SG sample\n",
    "DeviceArray([-3.715097  ,  0.6096728 , -1.6813153 , -0.08168457,\n",
    "             -5.550722  ,  0.6479634 , -1.5653569 , -0.64631474],            dtype=float32)\n",
    "   \n",
    "DeviceArray([0.40209517, 0.0793009 , 0.82480085, 0.1394154 , \n",
    "             0.42107266, 0.05699116, 0.6225904 , 0.11118653], dtype=float32)\n",
    "\n"
   ]
  },
  {
   "cell_type": "code",
   "execution_count": null,
   "id": "7bf849b3-0e09-4b15-83e9-cbf4d4a0669d",
   "metadata": {},
   "outputs": [],
   "source": []
  }
 ],
 "metadata": {
  "kernelspec": {
   "display_name": "Python 3",
   "language": "python",
   "name": "python3"
  },
  "language_info": {
   "codemirror_mode": {
    "name": "ipython",
    "version": 3
   },
   "file_extension": ".py",
   "mimetype": "text/x-python",
   "name": "python",
   "nbconvert_exporter": "python",
   "pygments_lexer": "ipython3",
   "version": "3.7.9"
  },
  "toc-autonumbering": true
 },
 "nbformat": 4,
 "nbformat_minor": 5
}
